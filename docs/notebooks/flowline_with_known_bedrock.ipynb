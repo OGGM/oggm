{
 "cells": [
  {
   "cell_type": "markdown",
   "metadata": {},
   "source": [
    "<img src=\"https://raw.githubusercontent.com/OGGM/oggm/master/docs/_static/logo.png\" width=\"40%\"  align=\"left\">"
   ]
  },
  {
   "cell_type": "markdown",
   "metadata": {},
   "source": [
    "# Set up a flowline model run with known boundary conditions"
   ]
  },
  {
   "cell_type": "markdown",
   "metadata": {},
   "source": [
    "This notebook builds upon the ``flowlime_model.ipynb`` example notebook, but this time uses known input data for the model. More importantly (and digging a bit deeper in model structure), it illustrates how to write a custom mass-balance model."
   ]
  },
  {
   "cell_type": "code",
   "execution_count": null,
   "metadata": {},
   "outputs": [],
   "source": [
    "# The commands below are just importing the necessary modules and functions\n",
    "# Plot defaults\n",
    "%matplotlib notebook\n",
    "import matplotlib.pyplot as plt\n",
    "plt.rcParams['figure.figsize'] = (9, 6)  # Default plot size\n",
    "# Scientific packages\n",
    "import pandas as pd\n",
    "import numpy as np\n",
    "# Constants\n",
    "from oggm.cfg import SEC_IN_YEAR, A, RHO\n",
    "# OGGM models\n",
    "from oggm.core.flowline import FluxBasedModel, RectangularBedFlowline\n",
    "from oggm.core.massbalance import MassBalanceModel"
   ]
  },
  {
   "cell_type": "markdown",
   "metadata": {},
   "source": [
    "## Read the bed topography data"
   ]
  },
  {
   "cell_type": "code",
   "execution_count": null,
   "metadata": {},
   "outputs": [],
   "source": [
    "df = pd.read_csv('/home/mowglie/bedrock.csv', index_col=0)\n",
    "df.plot();"
   ]
  },
  {
   "cell_type": "markdown",
   "metadata": {},
   "source": [
    "This is an ideal bedrock taken from the OGGM [numerics test suite](https://github.com/OGGM/oggm/blob/master/oggm/tests/test_numerics.py). Now we can create a flowline from these data. Let's give our glacier a rectangular bed shape for this example (not very realistic but easier to interpret): "
   ]
  },
  {
   "cell_type": "code",
   "execution_count": null,
   "metadata": {},
   "outputs": [],
   "source": [
    "map_dx = 100.  # units: meter, obtained from the dataframe's index above\n",
    "# The units of widths is in \"grid points\", i.e. 3 grid points = 300 m in our case\n",
    "widths = np.zeros_like(df['z_bedrock']) + 3.\n",
    "# Define our bed\n",
    "init_flowline = RectangularBedFlowline(surface_h=df['z_ice'].values, \n",
    "                                       bed_h=df['z_bedrock'].values, \n",
    "                                       widths=widths, \n",
    "                                       map_dx=map_dx)"
   ]
  },
  {
   "cell_type": "markdown",
   "metadata": {},
   "source": [
    "Again, this ``Flowline`` object has some nice attributes for you to check out:"
   ]
  },
  {
   "cell_type": "code",
   "execution_count": null,
   "metadata": {},
   "outputs": [],
   "source": [
    "print('Glacier length:', init_flowline.length_m)\n",
    "print('Glacier area:', init_flowline.area_km2)\n",
    "print('Glacier volume:', init_flowline.volume_km3)"
   ]
  },
  {
   "cell_type": "markdown",
   "metadata": {},
   "source": [
    "## Make a custom mass-balance model"
   ]
  },
  {
   "cell_type": "markdown",
   "metadata": {},
   "source": [
    "To make a custom mass-balance model to OGGM, you'll need to comply to a relatively simple interface: you should create a new class inheriting from the ``oggm.core.massbalance.MassBalanceModel`` class. Your task will be to implement one single method: ``get_annual_mb`` (and ``get_monthly_mb`` if you'd like to use a monthly resolution for the dynamical model, which is not necessarily a good idea)."
   ]
  },
  {
   "cell_type": "code",
   "execution_count": null,
   "metadata": {},
   "outputs": [],
   "source": [
    "class SimpleRandomMassBalance(MassBalanceModel):\n",
    "    \"\"\"Custom mass-balance model for OGGM.\n",
    "    \n",
    "    It is a normally distributed random mass-balance with a linear gradient.\n",
    "    \n",
    "    You'll need to add your own code here for more elaborated models.\n",
    "    \"\"\"\n",
    "\n",
    "    def __init__(self, avg_ela_h=2500, sigma_ela_h=300, grad=3, seed=None):\n",
    "        \"\"\" Initialize.\n",
    "\n",
    "        Parameters5\n",
    "        ----------\n",
    "        avg_ela_h: float\n",
    "            Average equilibrium line altitude (units: [m])\n",
    "        sigma_ela_h : float\n",
    "            Standard deviation ([m]) of the ela annual variability\n",
    "        grad: float\n",
    "            Mass-balance gradient (unit: [mm w.e. yr-1 m-1])\n",
    "        \"\"\"\n",
    "        super(SimpleRandomMassBalance, self).__init__()\n",
    "        self.avg_ela_h = avg_ela_h\n",
    "        self.sigma_ela_h = sigma_ela_h\n",
    "        self.grad = grad\n",
    "        self.rng = np.random.RandomState(seed)\n",
    "\n",
    "    def get_annual_mb(self, heights, year=None):\n",
    "        \"\"\"Annual mass-balance at given altitude(s) for a moment in time.\n",
    "\n",
    "        Units: [m s-1], or meters of ice per second\n",
    "\n",
    "        Note: `year` is optional because some simpler models have no time\n",
    "        component.\n",
    "        \n",
    "        Important Note: the unit is meter of ICE per second. If your mass\n",
    "        balance is in mm we (or kg m-2), a good way to convert it would be:\n",
    "        ``mb_ice = mb_mm_we / cfg.RHO`` where cfg.RHO is the density of \n",
    "        ice (900 kg m-3 in OGGM).\n",
    "\n",
    "        Parameters\n",
    "        ----------\n",
    "        heights: ndarray\n",
    "            the atitudes at which the mass-balance will be computed\n",
    "        year: float, optional\n",
    "            the time\n",
    "\n",
    "        Returns\n",
    "        -------\n",
    "        the mass-balance (same dimension as `heights`) (units: [m s-1])\n",
    "        \"\"\"\n",
    "        ela = self.rng.normal(self.avg_ela_h, self.sigma_ela_h)\n",
    "        mb = (np.asarray(heights) - ela) * self.grad\n",
    "        return mb / SEC_IN_YEAR / RHO"
   ]
  },
  {
   "cell_type": "code",
   "execution_count": null,
   "metadata": {},
   "outputs": [],
   "source": [
    "# Initialise it\n",
    "mb_model = SimpleRandomMassBalance()"
   ]
  },
  {
   "cell_type": "markdown",
   "metadata": {},
   "source": [
    "The mass-balance model gives you the mass-balance for any altitude you want, in units [m s$^{-1}$]. Let us compute the *annual* mass-balance along the glacier profile:"
   ]
  },
  {
   "cell_type": "code",
   "execution_count": null,
   "metadata": {},
   "outputs": [],
   "source": [
    "annual_mb = mb_model.get_annual_mb(init_flowline.surface_h) * SEC_IN_YEAR"
   ]
  },
  {
   "cell_type": "code",
   "execution_count": null,
   "metadata": {},
   "outputs": [],
   "source": [
    "# Plot it\n",
    "plt.figure();\n",
    "plt.plot(annual_mb, init_flowline.surface_h, color='C2', label='Mass-balance')\n",
    "plt.xlabel('Annual mass-balance (m yr-1)')\n",
    "plt.ylabel('Altitude (m)')\n",
    "plt.legend(loc='best');"
   ]
  },
  {
   "cell_type": "markdown",
   "metadata": {},
   "source": [
    "Let's compute the point mass-balance at the average ELA altitude:"
   ]
  },
  {
   "cell_type": "code",
   "execution_count": null,
   "metadata": {},
   "outputs": [],
   "source": [
    "time = np.arange(500)\n",
    "annual_mb = [mb_model.get_annual_mb(2500, year=t)*SEC_IN_YEAR for t in time]\n",
    "plt.figure()\n",
    "plt.plot(time, annual_mb)\n",
    "plt.xlabel('Year')\n",
    "plt.ylabel('Annual mass-balance at ELA (m yr-1)');"
   ]
  },
  {
   "cell_type": "markdown",
   "metadata": {},
   "source": [
    "### Model run"
   ]
  },
  {
   "cell_type": "markdown",
   "metadata": {},
   "source": [
    "Now that we have all the ingredients to run the model, we just have to initialize it:"
   ]
  },
  {
   "cell_type": "code",
   "execution_count": null,
   "metadata": {},
   "outputs": [],
   "source": [
    "# The model requires the initial glacier bed, a mass-balance model, and an initial time (the year y0)\n",
    "model = FluxBasedModel(init_flowline, mb_model=mb_model, y0=0., inplace=False, time_stepping='conservative')"
   ]
  },
  {
   "cell_type": "code",
   "execution_count": null,
   "metadata": {},
   "outputs": [],
   "source": [
    "# Year 0 to 800 in 5 years step\n",
    "yrs = np.arange(0, 801, 5)\n",
    "# Array to fill with data\n",
    "nsteps = len(yrs)\n",
    "length = np.zeros(nsteps)\n",
    "vol = np.zeros(nsteps)\n",
    "surface_h_ts = []\n",
    "# Loop\n",
    "for i, yr in enumerate(yrs):\n",
    "    model.run_until(yr)\n",
    "    length[i] = model.length_m\n",
    "    vol[i] = model.volume_km3\n",
    "    surface_h_ts.append(model.fls[-1].surface_h.copy())\n",
    "# I store the final results for later use\n",
    "simple_glacier_h = model.fls[-1].surface_h"
   ]
  },
  {
   "cell_type": "markdown",
   "metadata": {},
   "source": [
    "We can now plot the evolution of the glacier length and volume with time:"
   ]
  },
  {
   "cell_type": "code",
   "execution_count": null,
   "metadata": {},
   "outputs": [],
   "source": [
    "f, (ax1, ax2) = plt.subplots(1, 2, figsize=(9, 4))\n",
    "ax1.plot(yrs, length);\n",
    "ax1.set_xlabel('Years')\n",
    "ax1.set_ylabel('Length (m)');\n",
    "ax2.plot(yrs, vol);\n",
    "ax2.set_xlabel('Years')\n",
    "ax2.set_ylabel('Volume (km3)');\n",
    "plt.tight_layout();"
   ]
  },
  {
   "cell_type": "markdown",
   "metadata": {},
   "source": [
    "Let's make a widget just for fun:"
   ]
  },
  {
   "cell_type": "code",
   "execution_count": null,
   "metadata": {},
   "outputs": [],
   "source": [
    "import ipywidgets\n",
    "f, ax = plt.subplots(figsize=(9, 6))\n",
    "ax.plot(model.fls[-1].bed_h, color='k', label='Bedrock')\n",
    "gl = ax.plot(surface_h_ts[0], label='Glacier')[0]\n",
    "plt.tight_layout()\n",
    "plt.legend()\n",
    "def plot_func(freq):\n",
    "    gl.set_ydata(surface_h_ts[freq//5])\n",
    "    f.canvas.draw()\n",
    "freq = ipywidgets.IntSlider(value=0, min=0, max=800, step=10, description='Year:')\n",
    "ipywidgets.interact(plot_func, freq=freq);"
   ]
  },
  {
   "cell_type": "code",
   "execution_count": null,
   "metadata": {},
   "outputs": [],
   "source": []
  }
 ],
 "metadata": {
  "hide_input": false,
  "kernelspec": {
   "display_name": "Python 3",
   "language": "python",
   "name": "python3"
  },
  "language_info": {
   "codemirror_mode": {
    "name": "ipython",
    "version": 3
   },
   "file_extension": ".py",
   "mimetype": "text/x-python",
   "name": "python",
   "nbconvert_exporter": "python",
   "pygments_lexer": "ipython3",
   "version": "3.5.2"
  },
  "toc": {
   "base_numbering": 1,
   "nav_menu": {},
   "number_sections": false,
   "sideBar": true,
   "skip_h1_title": true,
   "title_cell": "Table of Contents",
   "title_sidebar": "Contents",
   "toc_cell": false,
   "toc_position": {},
   "toc_section_display": true,
   "toc_window_display": false
  }
 },
 "nbformat": 4,
 "nbformat_minor": 1
}
