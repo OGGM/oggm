{
 "cells": [
  {
   "cell_type": "markdown",
   "metadata": {},
   "source": [
    "<img src=\"https://raw.githubusercontent.com/OGGM/oggm/master/docs/_static/logo.png\" width=\"40%\"  align=\"left\">"
   ]
  },
  {
   "cell_type": "markdown",
   "metadata": {},
   "source": [
    "# Glacier dynamics and length changes"
   ]
  },
  {
   "cell_type": "markdown",
   "metadata": {},
   "source": [
    "This code was used to make the analyses shown in this blog post: http://oggm.org/2017/10/23/length-changes/\n",
    "\n",
    "Date: 25.10.2017, updated 02.02.2018"
   ]
  },
  {
   "cell_type": "code",
   "execution_count": null,
   "metadata": {},
   "outputs": [],
   "source": [
    "import os\n",
    "import geopandas as gpd\n",
    "import pandas as pd\n",
    "import xarray as xr\n",
    "import numpy as np\n",
    "import oggm\n",
    "from oggm import cfg, utils, tasks, workflow, graphics\n",
    "from oggm.core.flowline import FileModel\n",
    "import matplotlib.pyplot as plt\n",
    "%matplotlib inline"
   ]
  },
  {
   "cell_type": "code",
   "execution_count": null,
   "metadata": {},
   "outputs": [],
   "source": [
    "# Plot directory\n",
    "pdir = os.path.expanduser('~')"
   ]
  },
  {
   "cell_type": "code",
   "execution_count": null,
   "metadata": {},
   "outputs": [],
   "source": [
    "cfg.initialize()\n",
    "cfg.PATHS['working_dir'] = os.path.expanduser('~/OGGM_Example_Length')\n",
    "cfg.PATHS['dem_file'] = utils.get_demo_file('srtm_oetztal.tif')\n",
    "cfg.PATHS['climate_file'] = utils.get_demo_file('HISTALP_oetztal.nc')\n",
    "cfg.PARAMS['run_mb_calibration'] = True\n",
    "cfg.PARAMS['ys'] = 1855\n",
    "cfg.PARAMS['ye'] = 2003  # This is the actual date of RGI\n",
    "cfg.PARAMS['border'] = 160\n",
    "cfg.PARAMS['use_intersects'] = False"
   ]
  },
  {
   "cell_type": "code",
   "execution_count": null,
   "metadata": {},
   "outputs": [],
   "source": [
    "hef_file = utils.get_demo_file('Hintereisferner_RGI5.shp')\n",
    "entity = gpd.GeoDataFrame.from_file(hef_file)"
   ]
  },
  {
   "cell_type": "code",
   "execution_count": null,
   "metadata": {},
   "outputs": [],
   "source": [
    "gdir = workflow.init_glacier_regions(entity, reset=True)[0]\n",
    "workflow.gis_prepro_tasks([gdir])\n",
    "workflow.climate_tasks([gdir])\n",
    "workflow.inversion_tasks([gdir])\n",
    "tasks.init_present_time_glacier(gdir)"
   ]
  },
  {
   "cell_type": "code",
   "execution_count": null,
   "metadata": {},
   "outputs": [],
   "source": [
    "# Observed length changes\n",
    "df = gdir.get_ref_length_data()\n",
    "df = df.loc[1855:2003]['dL']\n",
    "df = df - df.iloc[-1]\n",
    "df.plot();\n",
    "plt.title('Observed length changes Hintereisferner (1855-2003 )');"
   ]
  },
  {
   "cell_type": "markdown",
   "metadata": {},
   "source": [
    "## Random climates "
   ]
  },
  {
   "cell_type": "code",
   "execution_count": null,
   "metadata": {},
   "outputs": [],
   "source": [
    "odf = pd.DataFrame()\n",
    "for seed in [0, 1, 2, 3, 4]:\n",
    "    suff = 'rdn_mustar_seed{}'.format(seed)\n",
    "    # bias=0 to ensure equibilbrium climate at t*. Needed for t* only!\n",
    "    tasks.run_random_climate(gdir, bias=0, nyears=400, output_filesuffix=suff, seed=seed);\n",
    "    ds = xr.open_dataset(gdir.get_filepath('model_diagnostics', filesuffix=suff))\n",
    "    odf['Seed {}'.format(seed)] = ds.length_m\n",
    "odf.index = ds.time\n",
    "odf.index.name = 'Years'"
   ]
  },
  {
   "cell_type": "code",
   "execution_count": null,
   "metadata": {},
   "outputs": [],
   "source": [
    "# 2003 length according to the model\n",
    "len_0 = odf.iloc[0, 0]"
   ]
  },
  {
   "cell_type": "code",
   "execution_count": null,
   "metadata": {},
   "outputs": [],
   "source": [
    "# Plot 1\n",
    "# We do the running average over 36 months for nice looking plots but this isn't necessary \n",
    "ax = (odf.rolling(36, center=True).mean() - len_0).plot();\n",
    "ax.set_ylabel('Glacier Length Change [m]');\n",
    "ax.set_ylim([-1500, 1500])\n",
    "plt.title('Hintereisferner length changes in a random climate')\n",
    "plt.tight_layout();\n",
    "plt.savefig(os.path.join(pdir, 'rdn_lengths.png'), dpi=150)"
   ]
  },
  {
   "cell_type": "markdown",
   "metadata": {},
   "source": [
    "## Historical run from a current glacier "
   ]
  },
  {
   "cell_type": "code",
   "execution_count": null,
   "metadata": {},
   "outputs": [],
   "source": [
    "tasks.run_from_climate_data(gdir, output_filesuffix='hist_from_current');"
   ]
  },
  {
   "cell_type": "code",
   "execution_count": null,
   "metadata": {},
   "outputs": [],
   "source": [
    "ds = xr.open_dataset(gdir.get_filepath('model_diagnostics', filesuffix='hist_from_current'))\n",
    "s = ds.length_m.to_series().rolling(36, center=True).mean()\n",
    "s = s - len_0\n",
    "ax = df.plot(c='k', label='Observations');\n",
    "s.plot(c='C0', label='OGGM');\n",
    "plt.legend();\n",
    "ax.set_ylabel('Glacier Length Change [m]');\n",
    "plt.title('Hintereisferner length changes Experiment 2')\n",
    "plt.tight_layout();\n",
    "plt.savefig(os.path.join(pdir, 'lengths_from_today.png'), dpi=150)"
   ]
  },
  {
   "cell_type": "markdown",
   "metadata": {},
   "source": [
    "## Historical run from a larger glacier"
   ]
  },
  {
   "cell_type": "code",
   "execution_count": null,
   "metadata": {},
   "outputs": [],
   "source": [
    "suff = 'rdn_cold'\n",
    "# bias=0 to ensure equibilbrium climate at t*. Needed for t* only!\n",
    "tasks.run_random_climate(gdir, bias=0, nyears=400, temperature_bias=-0.5, output_filesuffix=suff, seed=3);"
   ]
  },
  {
   "cell_type": "code",
   "execution_count": null,
   "metadata": {},
   "outputs": [],
   "source": [
    "ds = xr.open_dataset(gdir.get_filepath('model_diagnostics', filesuffix=suff))\n",
    "s = ds.length_m.to_series().rolling(36, center=True).mean()\n",
    "s = s - len_0\n",
    "s.plot();\n",
    "plt.title('Glacier length in a colder, random climate');"
   ]
  },
  {
   "cell_type": "code",
   "execution_count": null,
   "metadata": {},
   "outputs": [],
   "source": [
    "tmp_mod = FileModel(gdir.get_filepath('model_run', filesuffix=suff))\n",
    "tmp_mod.run_until(400)\n",
    "graphics.plot_modeloutput_map(gdir, model=tmp_mod)"
   ]
  },
  {
   "cell_type": "code",
   "execution_count": null,
   "metadata": {},
   "outputs": [],
   "source": [
    "tmp_mod = FileModel(gdir.get_filepath('model_run', filesuffix=suff))\n",
    "tmp_mod.run_until(390)\n",
    "tasks.run_from_climate_data(gdir, init_model_fls=tmp_mod.fls, output_filesuffix='hist_from_bias');"
   ]
  },
  {
   "cell_type": "code",
   "execution_count": null,
   "metadata": {},
   "outputs": [],
   "source": [
    "ds = xr.open_dataset(gdir.get_filepath('model_diagnostics', filesuffix='hist_from_bias'))\n",
    "s = ds.length_m.to_series().rolling(36, center=True).mean()\n",
    "s = s - len_0\n",
    "ax = df.plot(c='k', label='Observations');\n",
    "s.plot(c='C0', label='OGGM');\n",
    "plt.legend();\n",
    "ax.set_ylabel('Glacier Length Change [m]');\n",
    "plt.title('Hintereisferner length changes Experiment 3')\n",
    "plt.tight_layout();\n",
    "plt.savefig(os.path.join(pdir, 'lengths_from_colder_1.png'), dpi=150)"
   ]
  },
  {
   "cell_type": "markdown",
   "metadata": {},
   "source": [
    "## Historical run from a liquid glacier"
   ]
  },
  {
   "cell_type": "code",
   "execution_count": null,
   "metadata": {},
   "outputs": [],
   "source": [
    "suff = 'rdn_cold_a'\n",
    "glen_a = cfg.A*2\n",
    "tasks.run_random_climate(gdir, bias=0, nyears=400, temperature_bias=-0.5, output_filesuffix=suff, \n",
    "                         seed=3, glen_a=glen_a);"
   ]
  },
  {
   "cell_type": "code",
   "execution_count": null,
   "metadata": {},
   "outputs": [],
   "source": [
    "ds = xr.open_dataset(gdir.get_filepath('model_diagnostics', filesuffix=suff))\n",
    "s = ds.length_m.to_series().rolling(36, center=True).mean()\n",
    "s = s - len_0\n",
    "s.plot();\n",
    "plt.title('Glacier length in a colder, random climate');"
   ]
  },
  {
   "cell_type": "code",
   "execution_count": null,
   "metadata": {},
   "outputs": [],
   "source": [
    "tmp_mod = FileModel(gdir.get_filepath('model_run', filesuffix=suff))\n",
    "tmp_mod.run_until(300)\n",
    "tasks.run_from_climate_data(gdir, init_model_fls=tmp_mod.fls, output_filesuffix='hist_from_bias_a', glen_a=glen_a);"
   ]
  },
  {
   "cell_type": "code",
   "execution_count": null,
   "metadata": {},
   "outputs": [],
   "source": [
    "ds = xr.open_dataset(gdir.get_filepath('model_diagnostics', filesuffix='hist_from_bias_a'))\n",
    "s = ds.length_m.to_series().rolling(36, center=True).mean()\n",
    "s = s - len_0\n",
    "ax = df.plot(c='k', label='Observations');\n",
    "s.plot(c='C0', label='OGGM');\n",
    "plt.legend();\n",
    "ax.set_ylabel('Glacier Length Change [m]');\n",
    "plt.title('Hintereisferner length changes Experiment 4')\n",
    "plt.tight_layout();\n",
    "plt.savefig(os.path.join(pdir, 'lengths_from_colder_2.png'), dpi=150)"
   ]
  },
  {
   "cell_type": "markdown",
   "metadata": {},
   "source": [
    "## How long are varying initial states visible?"
   ]
  },
  {
   "cell_type": "markdown",
   "metadata": {},
   "source": [
    "We run the glacier with CESM Data for 500 years and different starting states"
   ]
  },
  {
   "cell_type": "code",
   "execution_count": null,
   "metadata": {},
   "outputs": [],
   "source": [
    "# Process the data\n",
    "f = utils.get_demo_file('cesm.TREFHT.160001-200512.selection.nc')\n",
    "cfg.PATHS['gcm_temp_file'] = f\n",
    "f = utils.get_demo_file('cesm.PRECC.160001-200512.selection.nc')\n",
    "cfg.PATHS['gcm_precc_file'] = f\n",
    "f = utils.get_demo_file('cesm.PRECL.160001-200512.selection.nc')\n",
    "cfg.PATHS['gcm_precl_file'] = f\n",
    "tasks.process_cesm_data(gdir)"
   ]
  },
  {
   "cell_type": "code",
   "execution_count": null,
   "metadata": {},
   "outputs": [],
   "source": [
    "# First with default a\n",
    "suff = 'rdn_cold'"
   ]
  },
  {
   "cell_type": "code",
   "execution_count": null,
   "metadata": {},
   "outputs": [],
   "source": [
    "tmp_mod = FileModel(gdir.get_filepath('model_run', filesuffix=suff))\n",
    "tmp_mod.run_until(0)\n",
    "tasks.run_from_climate_data(gdir, ys=1601, ye=2003, init_model_fls=tmp_mod.fls,\n",
    "                            climate_filename='cesm_data', output_filesuffix='cesm_from_bias');\n",
    "tmp_mod.run_until(100)\n",
    "tasks.run_from_climate_data(gdir, ys=1601, ye=2003, init_model_fls=tmp_mod.fls,\n",
    "                            climate_filename='cesm_data', output_filesuffix='cesm_from_bias_100');\n",
    "tmp_mod.run_until(200)\n",
    "tasks.run_from_climate_data(gdir, ys=1601, ye=2003, init_model_fls=tmp_mod.fls,\n",
    "                            climate_filename='cesm_data', output_filesuffix='cesm_from_bias_200');\n",
    "tmp_mod.run_until(300)\n",
    "tasks.run_from_climate_data(gdir, ys=1601, ye=2003, init_model_fls=tmp_mod.fls,\n",
    "                            climate_filename='cesm_data', output_filesuffix='cesm_from_bias_300');"
   ]
  },
  {
   "cell_type": "code",
   "execution_count": null,
   "metadata": {},
   "outputs": [],
   "source": [
    "pdf = pd.DataFrame()\n",
    "ds = xr.open_dataset(gdir.get_filepath('model_diagnostics', filesuffix='cesm_from_bias'))\n",
    "s = ds.length_m.to_series().rolling(36, center=True).mean()\n",
    "pdf['Init HEF'] = s - len_0\n",
    "ds = xr.open_dataset(gdir.get_filepath('model_diagnostics', filesuffix='cesm_from_bias_100'))\n",
    "s = ds.length_m.to_series().rolling(36, center=True).mean()\n",
    "pdf['Large HEF'] = s - len_0\n",
    "ds = xr.open_dataset(gdir.get_filepath('model_diagnostics', filesuffix='cesm_from_bias_200'))\n",
    "s = ds.length_m.to_series().rolling(36, center=True).mean()\n",
    "pdf['Larger HEF'] = s - len_0\n",
    "ds = xr.open_dataset(gdir.get_filepath('model_diagnostics', filesuffix='cesm_from_bias_300'))\n",
    "s = ds.length_m.to_series().rolling(36, center=True).mean()\n",
    "pdf['Even larger HEF'] = s - len_0\n",
    "\n",
    "ax = pdf.plot();\n",
    "df.plot(ax=ax, c='k', label='Observations');\n",
    "plt.legend(loc='upper center');\n",
    "ax.set_ylabel('Glacier Length Change [m]');\n",
    "plt.title('Hintereisferner length changes CESM');\n",
    "plt.tight_layout();\n",
    "plt.savefig(os.path.join(pdir, 'lengths_from_cesm.png'), dpi=150)"
   ]
  },
  {
   "cell_type": "code",
   "execution_count": null,
   "metadata": {},
   "outputs": [],
   "source": []
  }
 ],
 "metadata": {
  "hide_input": false,
  "kernelspec": {
   "display_name": "Python 3",
   "language": "python",
   "name": "python3"
  },
  "language_info": {
   "codemirror_mode": {
    "name": "ipython",
    "version": 3
   },
   "file_extension": ".py",
   "mimetype": "text/x-python",
   "name": "python",
   "nbconvert_exporter": "python",
   "pygments_lexer": "ipython3",
   "version": "3.5.2"
  }
 },
 "nbformat": 4,
 "nbformat_minor": 1
}
