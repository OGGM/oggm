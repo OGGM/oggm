{
 "cells": [
  {
   "cell_type": "markdown",
   "metadata": {},
   "source": [
    "<img src=\"https://raw.githubusercontent.com/OGGM/oggm/master/docs/_static/logo.png\" width=\"40%\"  align=\"left\">"
   ]
  },
  {
   "cell_type": "markdown",
   "metadata": {},
   "source": [
    "# Processing WGMS mass-balance data for OGGM"
   ]
  },
  {
   "cell_type": "markdown",
   "metadata": {},
   "source": [
    "In this notebook, we use the most recent lookup table provided by the WGMS to prepare the reference mass-balance data for the OGGM model.\n",
    "\n",
    "For this to work you'll need the latest lookup table (available through official channels soon), the latest WGMS FoG data (available [here](http://wgms.ch/data_databaseversions/)), and the latest RGI version (available [here](http://www.glims.org/RGI/))."
   ]
  },
  {
   "cell_type": "code",
   "execution_count": null,
   "metadata": {},
   "outputs": [],
   "source": [
    "import pandas as pd\n",
    "import os\n",
    "import numpy as np\n",
    "import matplotlib.pyplot as plt\n",
    "%matplotlib inline"
   ]
  },
  {
   "cell_type": "markdown",
   "metadata": {},
   "source": [
    "### Read the WGMS files"
   ]
  },
  {
   "cell_type": "code",
   "execution_count": null,
   "metadata": {},
   "outputs": [],
   "source": [
    "idir = '/home/champollion/Downloads/WGMS/'\n",
    "df_links = pd.read_csv(os.path.join(idir, 'WGMS-FoG-2018-06-AA-GLACIER-ID-LUT.csv'), encoding='iso8859_15')\n",
    "df_mb_all = pd.read_csv(os.path.join(idir, 'WGMS-FoG-2018-06-EE-MASS-BALANCE.csv'), encoding='iso8859_15')"
   ]
  },
  {
   "cell_type": "markdown",
   "metadata": {},
   "source": [
    "### Problem: lookup table not up to date !!!\n",
    "RGI_ID in the latest WGMS FoG dataset is done with RGI5.0 not RGI6.0"
   ]
  },
  {
   "cell_type": "code",
   "execution_count": null,
   "metadata": {},
   "outputs": [],
   "source": [
    "'Total number of links: {}'.format(len(df_links))"
   ]
  },
  {
   "cell_type": "code",
   "execution_count": null,
   "metadata": {},
   "outputs": [],
   "source": [
    "df_links = df_links.dropna(subset=['RGI_ID'])  # keep the ones with a valid RGI ID\n",
    "'Total number of RGI links: {}'.format(len(df_links))"
   ]
  },
  {
   "cell_type": "markdown",
   "metadata": {},
   "source": [
    "## Select WGMS IDs with more than N years of mass-balance "
   ]
  },
  {
   "cell_type": "code",
   "execution_count": null,
   "metadata": {},
   "outputs": [],
   "source": [
    "df_mb = df_mb_all[df_mb_all.LOWER_BOUND.isin([9999])].copy()  # remove the profiles\n",
    "gp_id = df_mb.groupby('WGMS_ID')\n",
    "ids_5 = []\n",
    "ids_1 = []\n",
    "for wgmsid, group in gp_id:\n",
    "    if np.sum(np.isfinite(group.ANNUAL_BALANCE.values)) >= 5:\n",
    "        ids_5.append(wgmsid)\n",
    "    if np.sum(np.isfinite(group.ANNUAL_BALANCE.values)) >= 1:\n",
    "        ids_1.append(wgmsid)"
   ]
  },
  {
   "cell_type": "code",
   "execution_count": null,
   "metadata": {},
   "outputs": [],
   "source": [
    "print('Number of glaciers with more than 1 MB years: {}'.format(len(ids_1)))\n",
    "print('Number of glaciers with more than 5 MB years: {}'.format(len(ids_5)))"
   ]
  },
  {
   "cell_type": "markdown",
   "metadata": {},
   "source": [
    "## Number of glaciers in the lookup table with at least 5 years of valid MB data"
   ]
  },
  {
   "cell_type": "code",
   "execution_count": null,
   "metadata": {},
   "outputs": [],
   "source": [
    "'Number of matches in the WGMS lookup-table: {}'.format(len(df_links.loc[df_links.WGMS_ID.isin(ids_5)]))"
   ]
  },
  {
   "cell_type": "code",
   "execution_count": null,
   "metadata": {},
   "outputs": [],
   "source": [
    "# keep those\n",
    "df_links_sel = df_links.loc[df_links.WGMS_ID.isin(ids_5)]"
   ]
  },
  {
   "cell_type": "markdown",
   "metadata": {},
   "source": [
    "## Duplicates?"
   ]
  },
  {
   "cell_type": "markdown",
   "metadata": {},
   "source": [
    "Yes:"
   ]
  },
  {
   "cell_type": "code",
   "execution_count": null,
   "metadata": {},
   "outputs": [],
   "source": [
    "df_links_sel.loc[df_links_sel.duplicated('RGI_ID', keep=False)]"
   ]
  },
  {
   "cell_type": "markdown",
   "metadata": {},
   "source": [
    "Careser is an Italian glacier which is now disintegrated in smaller parts. Here a screenshot from the WGMS exploration tool:\n",
    "\n",
    "<img src=\"https://www.dropbox.com/s/a0eoq6rrhimrolu/wgms_1.jpg?dl=1\" width=\"80%\">\n",
    "\n",
    "We keep the oldest MB series and discard the newer ones which are for the smaller glaciers (not represented in RGI)."
   ]
  },
  {
   "cell_type": "code",
   "execution_count": null,
   "metadata": {},
   "outputs": [],
   "source": [
    "# We keep CARESER as this is the longest before they split\n",
    "df_links_sel = df_links_sel.loc[~ df_links_sel.WGMS_ID.isin([3346, 3345])]"
   ]
  },
  {
   "cell_type": "markdown",
   "metadata": {},
   "source": [
    "The two norwegian glaciers are part of an ice cap:\n",
    "\n",
    "<img src=\"https://www.dropbox.com/s/q6nh7qef4mrf1hz/wgms_2.jpg?dl=1\" width=\"80%\">\n",
    "\n",
    "The two mass-balance time series are very close to each other, unsurprisingly:"
   ]
  },
  {
   "cell_type": "code",
   "execution_count": null,
   "metadata": {},
   "outputs": [],
   "source": [
    "df_mb.loc[df_mb.WGMS_ID.isin([3339])].set_index('YEAR').ANNUAL_BALANCE.plot()\n",
    "df_mb.loc[df_mb.WGMS_ID.isin([3343])].set_index('YEAR').ANNUAL_BALANCE.plot();"
   ]
  },
  {
   "cell_type": "markdown",
   "metadata": {},
   "source": [
    "Since there is no reason for picking one series over the other, we have to remove both from the list."
   ]
  },
  {
   "cell_type": "code",
   "execution_count": null,
   "metadata": {},
   "outputs": [],
   "source": [
    "# The two nowegians glaciers are some part of an ice cap. I'll just remove them both\n",
    "df_links_sel = df_links_sel.loc[~ df_links_sel.WGMS_ID.isin([3339, 3343])]"
   ]
  },
  {
   "cell_type": "code",
   "execution_count": null,
   "metadata": {},
   "outputs": [],
   "source": [
    "'Final number of matches in the WGMS lookup-table: {}'.format(len(df_links_sel))"
   ]
  },
  {
   "cell_type": "code",
   "execution_count": null,
   "metadata": {},
   "outputs": [],
   "source": [
    "# add some simple stats\n",
    "df_links_sel['RGI_REG'] = [rid.split('-')[1].split('.')[0] for rid in df_links_sel.RGI_ID]\n",
    "df_links_sel['N_MB_YRS'] = [len(df_mb.loc[df_mb.WGMS_ID == wid]) for wid in df_links_sel.WGMS_ID]"
   ]
  },
  {
   "cell_type": "markdown",
   "metadata": {},
   "source": [
    "## Write out the mass-balance data"
   ]
  },
  {
   "cell_type": "code",
   "execution_count": null,
   "metadata": {},
   "outputs": [],
   "source": [
    "odir = '/home/champollion/oggm-sample-data/wgms'"
   ]
  },
  {
   "cell_type": "markdown",
   "metadata": {},
   "source": [
    "### Annual MB"
   ]
  },
  {
   "cell_type": "code",
   "execution_count": null,
   "metadata": {},
   "outputs": [],
   "source": [
    "for rid, wid in zip(df_links_sel.RGI_ID, df_links_sel.WGMS_ID):\n",
    "    df_mb_sel = df_mb.loc[df_mb.WGMS_ID == wid].copy()\n",
    "    df_mb_sel = df_mb_sel[['YEAR', 'WGMS_ID', 'POLITICAL_UNIT', 'NAME', 'AREA', 'WINTER_BALANCE', \n",
    "                           'SUMMER_BALANCE',  'ANNUAL_BALANCE', 'REMARKS']].set_index('YEAR')\n",
    "    df_mb_sel['RGI_ID'] = rid\n",
    "    df_mb_sel.to_csv(os.path.join(odir, 'mbdata', 'mbdata_WGMS-{:05d}.csv'.format(wid)))"
   ]
  },
  {
   "cell_type": "markdown",
   "metadata": {},
   "source": [
    "### Profiles"
   ]
  },
  {
   "cell_type": "code",
   "execution_count": null,
   "metadata": {},
   "outputs": [],
   "source": [
    "for rid, wid in zip(df_links_sel.RGI_ID, df_links_sel.WGMS_ID):\n",
    "    df_mb_sel = df_mb_all.loc[df_mb_all.WGMS_ID == wid].copy()\n",
    "    df_mb_sel = df_mb_sel.loc[df_mb_sel.LOWER_BOUND != 9999]\n",
    "    df_mb_sel = df_mb_sel.loc[df_mb_sel.UPPER_BOUND != 9999]\n",
    "    if len(df_mb_sel) == 0:\n",
    "        df_links_sel.loc[df_links_sel.RGI_ID == rid, 'HAS_PROFILE'] = False\n",
    "        continue\n",
    "    lb = set()\n",
    "    for yr in df_mb_sel.YEAR.unique():\n",
    "        df_mb_sel_yr = df_mb_sel.loc[df_mb_sel.YEAR == yr]\n",
    "        mids = df_mb_sel_yr.LOWER_BOUND.values*1.\n",
    "        mids += df_mb_sel_yr.UPPER_BOUND.values[:len(mids)]\n",
    "        mids *= 0.5\n",
    "        [lb.add(int(m)) for m in mids]\n",
    "    prof = pd.DataFrame(columns=sorted(list(lb)), index=sorted(df_mb_sel.YEAR.unique()))\n",
    "    for yr in df_mb_sel.YEAR.unique():\n",
    "        df_mb_sel_yr = df_mb_sel.loc[df_mb_sel.YEAR == yr]\n",
    "        mids = df_mb_sel_yr.LOWER_BOUND.values*1.\n",
    "        mids += df_mb_sel_yr.UPPER_BOUND.values[:len(mids)]\n",
    "        mids *= 0.5\n",
    "        prof.loc[yr, mids.astype(int)] = df_mb_sel_yr.ANNUAL_BALANCE.values\n",
    "    prof.to_csv(os.path.join(odir, 'mb_profiles', 'profile_WGMS-{:05d}.csv'.format(wid)))\n",
    "    df_links_sel.loc[df_links_sel.RGI_ID == rid, 'HAS_PROFILE'] = True"
   ]
  },
  {
   "cell_type": "markdown",
   "metadata": {
    "collapsed": true
   },
   "source": [
    "### Links: add some stats"
   ]
  },
  {
   "cell_type": "code",
   "execution_count": null,
   "metadata": {},
   "outputs": [],
   "source": [
    "# Handle various RGI versions\n",
    "print(df_links_sel)\n",
    "df_links_sel.rename(columns = {'RGI_ID':'RGI60_ID'}, inplace = True)\n",
    "df_links_sel['RGI40_ID'] = df_links_sel['RGI60_ID']\n",
    "df_links_sel['RGI40_ID'] = [rid.replace('RGI50', 'RGI40') for rid in df_links_sel['RGI40_ID']]\n",
    "df_links_sel['RGI60_ID'] = [rid.replace('RGI50', 'RGI60') for rid in df_links_sel['RGI60_ID']]\n",
    "print(df_links_sel)"
   ]
  },
  {
   "cell_type": "code",
   "execution_count": null,
   "metadata": {
    "scrolled": true
   },
   "outputs": [],
   "source": [
    "# Get the RGI6.0\n",
    "import geopandas as gpd\n",
    "import glob, os\n",
    "frgi = '/home/champollion/oggm-sample-data/rgi60_allglaciers.csv'\n",
    "if not os.path.exists(frgi):\n",
    "    # one time action only\n",
    "    fs = list(sorted(glob.glob(\"/home/champollion/Downloads/RGI/*/*_rgi60_*.shp\")))[2:]\n",
    "    out = []\n",
    "    for f in fs:\n",
    "        sh = gpd.read_file(f).set_index('RGIId')\n",
    "        del sh['geometry']\n",
    "        del sh['GLIMSId']\n",
    "        del sh['Name']\n",
    "        out.append(sh)\n",
    "    mdf = pd.concat(out)\n",
    "    mdf.to_csv(frgi)\n",
    "    \n",
    "# RGI 6.0 changed GlacType attribute\n",
    "mdf = pd.read_csv(frgi, index_col=0, converters={'Form': str, 'TermType':str, 'BgnDate':str, \n",
    "                                                 'O1Region': str, 'O2Region':str})\n",
    "mdf['RGI_REG'] = [rid.split('-')[1].split('.')[0] for rid in mdf.index]\n",
    "\n",
    "# add region names RGI 5.0\n",
    "#sr = gpd.read_file('/home/champollion/Downloads/RGI/00_rgi50_regions/00_rgi50_O1Regions.shp')\n",
    "#sr = sr.drop_duplicates('Secondary_').set_index('Secondary_')[['Primary_ID']]\n",
    "#sr['Primary_ID'] = [i + ': ' + s for i, s in sr.Primary_ID.iteritems()]\n",
    "#mdf['RGI_REG_NAME'] = sr.loc[mdf.RGI_REG].Primary_ID.values\n",
    "\n",
    "# add region names RGI 6.0 - different because RGI_CODE changes between 5.0 and 6.0\n",
    "sr = gpd.read_file('/home/champollion/Downloads/RGI/00_rgi60_regions/00_rgi60_O1Regions.shp')\n",
    "sr = sr.drop_duplicates('RGI_CODE').set_index('RGI_CODE')[['FULL_NAME']]\n",
    "sr['FULL_NAME'] = [str(i) + ': ' + s for i, s in sr.FULL_NAME.iteritems()]\n",
    "\n",
    "for i, s in sr.FULL_NAME.iteritems():\n",
    "    if i <= 9:\n",
    "        sr['FULL_NAME'][i] = '0' + s\n",
    "        sr = sr.rename(index={i: '0' + str(i)})\n",
    "    else:\n",
    "        sr = sr.rename(index={i: str(i)})\n",
    "\n",
    "mdf['RGI_REG_NAME'] = sr.loc[mdf.RGI_REG].FULL_NAME.values\n",
    "mdf['RGI_REG_NAME'].value_counts()"
   ]
  },
  {
   "cell_type": "code",
   "execution_count": null,
   "metadata": {},
   "outputs": [],
   "source": [
    "# Read glacier attrs\n",
    "key1 = {'0': 'Glacier',\n",
    "        '1': 'Ice cap',\n",
    "        '2': 'Perennial snowfield',\n",
    "        '3': 'Seasonal snowfield',\n",
    "        '9': 'Not assigned',\n",
    "        }\n",
    "\n",
    "key2 = {'0': 'Land-terminating',\n",
    "        '1': 'Marine-terminating',\n",
    "        '2': 'Lake-terminating',\n",
    "        '3': 'Dry calving',\n",
    "        '4': 'Regenerated',\n",
    "        '5': 'Shelf-terminating',\n",
    "        '9': 'Not assigned',\n",
    "        }\n",
    "\n",
    "def is_tidewater(ttype):\n",
    "    return \n",
    "\n",
    "#mdf['GlacierType'] = [key1[gtype[0]] for gtype in mdf.Form]\n",
    "#mdf['TerminusType'] = [key2[gtype[0]] for gtype in mdf.TermType]\n",
    "mdf['IsTidewater'] = [ttype in ['Marine-terminating', 'Lake-terminating'] for ttype in mdf.TermType]"
   ]
  },
  {
   "cell_type": "code",
   "execution_count": null,
   "metadata": {},
   "outputs": [],
   "source": [
    "# add lons and lats and other attrs to the WGMS ones\n",
    "smdf = mdf.loc[df_links_sel.RGI60_ID]\n",
    "df_links_sel['CenLon'] = smdf.CenLon.values\n",
    "df_links_sel['CenLat'] = smdf.CenLat.values\n",
    "df_links_sel['GlacierType'] = smdf.Form.values\n",
    "df_links_sel['TerminusType'] = smdf.TermType.values\n",
    "df_links_sel['IsTidewater'] = smdf.IsTidewater.values\n",
    "df_links_sel['RGI_REG_NAME'] = smdf.RGI_REG_NAME.values"
   ]
  },
  {
   "cell_type": "code",
   "execution_count": null,
   "metadata": {},
   "outputs": [],
   "source": [
    "df_links_sel = df_links_sel[['CenLon', 'CenLat',\n",
    "                             'POLITICAL_UNIT', 'NAME', 'WGMS_ID', 'PSFG_ID', 'WGI_ID', 'GLIMS_ID',\n",
    "                             'RGI40_ID', 'RGI60_ID', 'RGI_REG', 'RGI_REG_NAME', 'GlacierType', 'TerminusType', \n",
    "                             'IsTidewater', 'N_MB_YRS', 'HAS_PROFILE', 'REMARKS']]\n",
    "df_links_sel.to_csv(os.path.join(odir, 'rgi_wgms_links_201806_RGIV6.csv'.format(wid)), index=False)"
   ]
  },
  {
   "cell_type": "markdown",
   "metadata": {},
   "source": [
    "## Some plots "
   ]
  },
  {
   "cell_type": "code",
   "execution_count": null,
   "metadata": {},
   "outputs": [],
   "source": [
    "import seaborn as sns\n",
    "sns.set_context('poster')\n",
    "sns.set_style('whitegrid')\n",
    "pdir = '/home/champollion/oggm-sample-data'"
   ]
  },
  {
   "cell_type": "code",
   "execution_count": null,
   "metadata": {},
   "outputs": [],
   "source": [
    "df_links_sel['N_MB_YRS'].plot(kind='hist', color='C2', bins=np.arange(21)*5);\n",
    "plt.xlim(0, 100);\n",
    "plt.yticks(np.arange(0, 101, 20));\n",
    "plt.ylabel('Number of glaciers')\n",
    "plt.xlabel('Length of the timeseries (years)');\n",
    "plt.tight_layout();\n",
    "plt.savefig(os.path.join(pdir, 'nglacier-hist.png'), dpi=150)"
   ]
  },
  {
   "cell_type": "code",
   "execution_count": null,
   "metadata": {},
   "outputs": [],
   "source": [
    "'Number of glaciers: {}'.format(len(df_links_sel['N_MB_YRS']))"
   ]
  },
  {
   "cell_type": "code",
   "execution_count": null,
   "metadata": {},
   "outputs": [],
   "source": [
    "import cartopy\n",
    "import cartopy.crs as ccrs\n",
    "\n",
    "f = plt.figure(figsize=(12, 7))\n",
    "ax = plt.axes(projection=ccrs.Robinson())\n",
    "# mark a known place to help us geo-locate ourselves\n",
    "ax.set_extent([-180, 180, -90, 90], crs=ccrs.PlateCarree())\n",
    "ax.stock_img()\n",
    "ax.add_feature(cartopy.feature.COASTLINE);\n",
    "s = df_links_sel.loc[df_links_sel.N_MB_YRS < 10]\n",
    "print(len(s))\n",
    "ax.scatter(s.CenLon, s.CenLat, label='< 10 MB years', s=50,\n",
    "           edgecolor='k', facecolor='C0', transform=ccrs.PlateCarree(), zorder=99)\n",
    "s = df_links_sel.loc[(df_links_sel.N_MB_YRS >= 10) & (df_links_sel.N_MB_YRS < 30)]\n",
    "print(len(s))\n",
    "ax.scatter(s.CenLon, s.CenLat, label='$\\geq$ 10 and < 30 MB years', s=50,\n",
    "           edgecolor='k', facecolor='C1', transform=ccrs.PlateCarree(), zorder=99)\n",
    "s = df_links_sel.loc[df_links_sel.N_MB_YRS >= 30]\n",
    "print(len(s))\n",
    "ax.scatter(s.CenLon, s.CenLat, label='$\\geq$ 30 MB years', s=50,\n",
    "           edgecolor='k', facecolor='C2', transform=ccrs.PlateCarree(), zorder=99)\n",
    "plt.title('WGMS glaciers with at least 5 years of mass-balance data')\n",
    "plt.legend(loc=4, frameon=True)\n",
    "plt.tight_layout();\n",
    "plt.savefig(os.path.join(pdir, 'glacier-map.png'), dpi=150)"
   ]
  },
  {
   "cell_type": "code",
   "execution_count": null,
   "metadata": {},
   "outputs": [],
   "source": [
    "df_links_sel.TerminusType.value_counts().to_frame()"
   ]
  },
  {
   "cell_type": "code",
   "execution_count": null,
   "metadata": {},
   "outputs": [],
   "source": [
    "plt.figure(figsize=(12, 5))\n",
    "ax = sns.countplot(x='RGI_REG', hue=\"TerminusType\", data=df_links_sel);\n",
    "plt.ylabel('Number of glaciers');\n",
    "plt.xlabel('RGI regions');"
   ]
  },
  {
   "cell_type": "code",
   "execution_count": null,
   "metadata": {},
   "outputs": [],
   "source": [
    "md = pd.concat([mdf.Form.value_counts().to_frame(name='RGI V6').T, \n",
    "          df_links_sel.GlacierType.value_counts().to_frame(name='WGMS').T]\n",
    "          ).T\n",
    "md"
   ]
  },
  {
   "cell_type": "code",
   "execution_count": null,
   "metadata": {},
   "outputs": [],
   "source": [
    "md = pd.concat([mdf.TermType.value_counts().to_frame(name='RGI V6').T, \n",
    "          df_links_sel.TerminusType.value_counts().to_frame(name='WGMS').T]\n",
    "          ).T\n",
    "md"
   ]
  },
  {
   "cell_type": "code",
   "execution_count": null,
   "metadata": {},
   "outputs": [],
   "source": [
    "area_per_reg = mdf[['Area', 'RGI_REG_NAME']].groupby('RGI_REG_NAME').sum()\n",
    "area_per_reg['N_WGMS'] = df_links_sel.RGI_REG_NAME.value_counts()\n",
    "area_per_reg = area_per_reg.reset_index()"
   ]
  },
  {
   "cell_type": "code",
   "execution_count": null,
   "metadata": {},
   "outputs": [],
   "source": [
    "plt.figure(figsize=(15, 12))\n",
    "sns.barplot(x=\"Area\", y=\"RGI_REG_NAME\", data=area_per_reg);\n",
    "plt.title('Area of WGMS glacier per RGI region');\n",
    "plt.ylabel('');\n",
    "plt.xlabel('Area (km²)');"
   ]
  },
  {
   "cell_type": "code",
   "execution_count": null,
   "metadata": {},
   "outputs": [],
   "source": [
    "area_per_reg['N_WGMS_PER_UNIT'] = area_per_reg.N_WGMS / area_per_reg.Area * 1000"
   ]
  },
  {
   "cell_type": "code",
   "execution_count": null,
   "metadata": {},
   "outputs": [],
   "source": [
    "plt.figure(figsize=(15, 12))\n",
    "sns.barplot(x=\"N_WGMS\", y=\"RGI_REG_NAME\", data=area_per_reg);  # , palette=sns.husl_palette(19, s=.7, l=.5)\n",
    "plt.ylabel('')\n",
    "plt.xlabel('')\n",
    "plt.title('Number of WGMS glaciers per RGI region');\n",
    "plt.tight_layout();\n",
    "plt.savefig(os.path.join(pdir, 'barplot-ng.png'), dpi=150)"
   ]
  },
  {
   "cell_type": "code",
   "execution_count": null,
   "metadata": {},
   "outputs": [],
   "source": [
    "plt.figure(figsize=(15, 12))\n",
    "sns.barplot(x=\"N_WGMS_PER_UNIT\", y=\"RGI_REG_NAME\", data=area_per_reg);\n",
    "plt.ylabel('')\n",
    "plt.xlabel('')\n",
    "plt.title('Number of WGMS glaciers per 1,000 km$^2$ of ice, per RGI region');\n",
    "plt.tight_layout();\n",
    "plt.savefig(os.path.join(pdir, 'barplot-perice.png'), dpi=150)"
   ]
  },
  {
   "cell_type": "code",
   "execution_count": null,
   "metadata": {},
   "outputs": [],
   "source": [
    "plt.figure(figsize=(15, 5))\n",
    "nmb_yrs = df_links_sel[[\"RGI_REG\", 'N_MB_YRS']].groupby(\"RGI_REG\").sum()\n",
    "i = []\n",
    "for k, d in nmb_yrs.iterrows():\n",
    "     i.extend([k] * d.values[0])\n",
    "df = pd.DataFrame()\n",
    "df[\"RGI_REG\"] = i\n",
    "ax = sns.countplot(x=\"RGI_REG\", data=df)\n",
    "plt.xlabel('RGI regions');\n",
    "plt.ylabel('Number of glaciers');"
   ]
  },
  {
   "cell_type": "code",
   "execution_count": null,
   "metadata": {},
   "outputs": [],
   "source": []
  }
 ],
 "metadata": {
  "hide_input": false,
  "kernelspec": {
   "display_name": "Python 3",
   "language": "python",
   "name": "python3"
  },
  "language_info": {
   "codemirror_mode": {
    "name": "ipython",
    "version": 3
   },
   "file_extension": ".py",
   "mimetype": "text/x-python",
   "name": "python",
   "nbconvert_exporter": "python",
   "pygments_lexer": "ipython3",
   "version": "3.6.6"
  }
 },
 "nbformat": 4,
 "nbformat_minor": 1
}
