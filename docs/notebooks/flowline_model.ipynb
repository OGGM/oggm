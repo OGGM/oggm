{
 "cells": [
  {
   "cell_type": "markdown",
   "metadata": {},
   "source": [
    "<img src=\"https://raw.githubusercontent.com/OGGM/oggm/master/docs/_static/logo.png\" width=\"40%\"  align=\"left\">"
   ]
  },
  {
   "cell_type": "markdown",
   "metadata": {},
   "source": [
    "# Getting started with flowline models: idealized experiments"
   ]
  },
  {
   "cell_type": "markdown",
   "metadata": {},
   "source": [
    "In this notebook we are going to explore the basic functionalities of OGGM flowline model(s). For this purpose we are going to used simple, \"idealized\" glaciers, run with simple linear mass-balance profiles. "
   ]
  },
  {
   "cell_type": "code",
   "execution_count": null,
   "metadata": {},
   "outputs": [],
   "source": [
    "# The commands below are just importing the necessary modules and functions\n",
    "# Plot defaults\n",
    "%matplotlib inline\n",
    "import matplotlib.pyplot as plt\n",
    "plt.rcParams['figure.figsize'] = (9, 6)  # Default plot size\n",
    "# Scientific packages\n",
    "import numpy as np\n",
    "# Constants\n",
    "from oggm.cfg import SEC_IN_YEAR, A\n",
    "# OGGM models\n",
    "from oggm.core.massbalance import LinearMassBalance\n",
    "from oggm.core.flowline import FluxBasedModel, RectangularBedFlowline, TrapezoidalBedFlowline, ParabolicBedFlowline\n",
    "# This is to set a default parameter to a function. Just ignore it for now\n",
    "from functools import partial\n",
    "FlowlineModel = partial(FluxBasedModel, inplace=False)"
   ]
  },
  {
   "cell_type": "markdown",
   "metadata": {},
   "source": [
    "## Basics"
   ]
  },
  {
   "cell_type": "markdown",
   "metadata": {},
   "source": [
    "Set-up a simple run with a constant linear bed. We will first define the bed:"
   ]
  },
  {
   "cell_type": "markdown",
   "metadata": {},
   "source": [
    "### Glacier bed"
   ]
  },
  {
   "cell_type": "code",
   "execution_count": null,
   "metadata": {},
   "outputs": [],
   "source": [
    "# This is the bed rock, linearily decreasing from 3400m altitude to 1400m, in 200 steps\n",
    "nx = 200\n",
    "bed_h = np.linspace(3400, 1400, nx)\n",
    "# At the begining, there is no glacier so our glacier surface is at the bed altitude\n",
    "surface_h = bed_h\n",
    "# Let's set the model grid spacing to 100m (needed later)\n",
    "map_dx = 100"
   ]
  },
  {
   "cell_type": "code",
   "execution_count": null,
   "metadata": {},
   "outputs": [],
   "source": [
    "# plot this\n",
    "plt.plot(bed_h, color='k', label='Bedrock')\n",
    "plt.plot(surface_h, label='Initial glacier')\n",
    "plt.xlabel('Grid points')\n",
    "plt.ylabel('Altitude (m)')\n",
    "plt.legend(loc='best');"
   ]
  },
  {
   "cell_type": "markdown",
   "metadata": {},
   "source": [
    "Now we have to decide how wide our glacier is, and what it the *shape* of its bed. For a start, we will use a \"u-shaped\" bed (see the [documentation](http://oggm.readthedocs.org/en/latest/flowline.html#verticalwallflowline)), with a constant width of 300m:"
   ]
  },
  {
   "cell_type": "code",
   "execution_count": null,
   "metadata": {},
   "outputs": [],
   "source": [
    "# The units of widths is in \"grid points\", i.e. 3 grid points = 300 m in our case\n",
    "widths = np.zeros(nx) + 3.\n",
    "# Define our bed\n",
    "init_flowline = RectangularBedFlowline(surface_h=surface_h, bed_h=bed_h, widths=widths, map_dx=map_dx)"
   ]
  },
  {
   "cell_type": "markdown",
   "metadata": {},
   "source": [
    "The init_flowline variable now contains all deometrical information needed by the model. It can give access to some attributes, which are quite useless for a non-existing glacier: "
   ]
  },
  {
   "cell_type": "code",
   "execution_count": null,
   "metadata": {},
   "outputs": [],
   "source": [
    "print('Glacier length:', init_flowline.length_m)\n",
    "print('Glacier area:', init_flowline.area_km2)\n",
    "print('Glacier volume:', init_flowline.volume_km3)"
   ]
  },
  {
   "cell_type": "markdown",
   "metadata": {},
   "source": [
    "### Mass balance"
   ]
  },
  {
   "cell_type": "markdown",
   "metadata": {},
   "source": [
    "Then we will need a mass balance model. In our case this will be a simple linear mass-balance, defined by the equilibrium line altitude and an altitude gradient (in [mm m$^{-1}$]):"
   ]
  },
  {
   "cell_type": "code",
   "execution_count": null,
   "metadata": {},
   "outputs": [],
   "source": [
    "# ELA at 3000m a.s.l., gradient 4 mm m-1\n",
    "mb_model = LinearMassBalance(3000, grad=4)"
   ]
  },
  {
   "cell_type": "markdown",
   "metadata": {},
   "source": [
    "The mass-balance model gives you the mass-balance for any altitude you want, in units [m s$^{-1}$]. Let us compute the *annual* mass-balance along the glacier profile:"
   ]
  },
  {
   "cell_type": "code",
   "execution_count": null,
   "metadata": {},
   "outputs": [],
   "source": [
    "annual_mb = mb_model.get_annual_mb(surface_h) * SEC_IN_YEAR"
   ]
  },
  {
   "cell_type": "code",
   "execution_count": null,
   "metadata": {},
   "outputs": [],
   "source": [
    "# Plot it\n",
    "plt.plot(annual_mb, bed_h, color='C2', label='Mass-balance')\n",
    "plt.xlabel('Annual mass-balance (m yr-1)')\n",
    "plt.ylabel('Altitude (m)')\n",
    "plt.legend(loc='best');"
   ]
  },
  {
   "cell_type": "markdown",
   "metadata": {},
   "source": [
    "### Model run"
   ]
  },
  {
   "cell_type": "markdown",
   "metadata": {},
   "source": [
    "Now that we have all the ingredients to run the model, we just have to initialize it:"
   ]
  },
  {
   "cell_type": "code",
   "execution_count": null,
   "metadata": {},
   "outputs": [],
   "source": [
    "# The model requires the initial glacier bed, a mass-balance model, and an initial time (the year y0)\n",
    "model = FlowlineModel(init_flowline, mb_model=mb_model, y0=0.)"
   ]
  },
  {
   "cell_type": "markdown",
   "metadata": {},
   "source": [
    "We can now run the model for 150 years and see how the output looks like:"
   ]
  },
  {
   "cell_type": "code",
   "execution_count": null,
   "metadata": {},
   "outputs": [],
   "source": [
    "model.run_until(150)\n",
    "# Plot the initial conditions first:\n",
    "plt.plot(init_flowline.bed_h, color='k', label='Bedrock')\n",
    "plt.plot(init_flowline.surface_h, label='Initial glacier')\n",
    "# The get the modelled flowline (model.fls[-1]) and plot it's new surface\n",
    "plt.plot(model.fls[-1].surface_h, label='Glacier after {} years'.format(model.yr))\n",
    "plt.xlabel('Grid points')\n",
    "plt.ylabel('Altitude (m)')\n",
    "plt.legend(loc='best');"
   ]
  },
  {
   "cell_type": "markdown",
   "metadata": {},
   "source": [
    "Let's print out a few infos about our glacier:"
   ]
  },
  {
   "cell_type": "code",
   "execution_count": null,
   "metadata": {},
   "outputs": [],
   "source": [
    "print('Year:', model.yr)\n",
    "print('Glacier length (m):', model.length_m)\n",
    "print('Glacier area (km2):', model.area_km2)\n",
    "print('Glacier volume (km3):', model.volume_km3)"
   ]
  },
  {
   "cell_type": "markdown",
   "metadata": {},
   "source": [
    "Note that the model time is now 150. Runing the model with the sane input will do nothing:"
   ]
  },
  {
   "cell_type": "code",
   "execution_count": null,
   "metadata": {},
   "outputs": [],
   "source": [
    "model.run_until(150)\n",
    "print('Year:', model.yr)\n",
    "print('Glacier length (m):', model.length_m)"
   ]
  },
  {
   "cell_type": "markdown",
   "metadata": {},
   "source": [
    "If we want to compute longer, we have to set the desired date:"
   ]
  },
  {
   "cell_type": "code",
   "execution_count": null,
   "metadata": {},
   "outputs": [],
   "source": [
    "model.run_until(500)\n",
    "# Plot the initial conditions first:\n",
    "plt.plot(init_flowline.bed_h, color='k', label='Bedrock')\n",
    "plt.plot(init_flowline.surface_h, label='Initial glacier')\n",
    "# The get the modelled flowline (model.fls[-1]) and plot it's new surface\n",
    "plt.plot(model.fls[-1].surface_h, label='Glacier after {} years'.format(model.yr))\n",
    "plt.xlabel('Grid points')\n",
    "plt.ylabel('Altitude (m)')\n",
    "plt.legend(loc='best');"
   ]
  },
  {
   "cell_type": "code",
   "execution_count": null,
   "metadata": {},
   "outputs": [],
   "source": [
    "print('Year:', model.yr)\n",
    "print('Glacier length (m):', model.length_m)\n",
    "print('Glacier area (km2):', model.area_km2)\n",
    "print('Glacier volume (km3):', model.volume_km3)"
   ]
  },
  {
   "cell_type": "markdown",
   "metadata": {},
   "source": [
    "Note that in order to store some intermediate steps of the evolution of the glacier, it might be useful to make a loop:"
   ]
  },
  {
   "cell_type": "code",
   "execution_count": null,
   "metadata": {},
   "outputs": [],
   "source": [
    "# Reinitialize the model\n",
    "model = FlowlineModel(init_flowline, mb_model=mb_model, y0=0.)\n",
    "# Year 0 to 600 in 6 years step\n",
    "yrs = np.arange(0, 600, 5)\n",
    "# Array to fill with data\n",
    "nsteps = len(yrs)\n",
    "length = np.zeros(nsteps)\n",
    "vol = np.zeros(nsteps)\n",
    "# Loop\n",
    "for i, yr in enumerate(yrs):\n",
    "    model.run_until(yr)\n",
    "    length[i] = model.length_m\n",
    "    vol[i] = model.volume_km3\n",
    "# I store the final results for later use\n",
    "simple_glacier_h = model.fls[-1].surface_h"
   ]
  },
  {
   "cell_type": "markdown",
   "metadata": {},
   "source": [
    "We can now plot the evolution of the glacier length and volume with time:"
   ]
  },
  {
   "cell_type": "code",
   "execution_count": null,
   "metadata": {},
   "outputs": [],
   "source": [
    "f, (ax1, ax2) = plt.subplots(1, 2, figsize=(14, 5))\n",
    "ax1.plot(yrs, length);\n",
    "ax1.set_xlabel('Years')\n",
    "ax1.set_ylabel('Length (m)');\n",
    "ax2.plot(yrs, vol);\n",
    "ax2.set_xlabel('Years')\n",
    "ax2.set_ylabel('Volume (km3)');"
   ]
  },
  {
   "cell_type": "markdown",
   "metadata": {},
   "source": [
    "## A first experiment "
   ]
  },
  {
   "cell_type": "markdown",
   "metadata": {},
   "source": [
    "Ok, now we have seen the basics. Will will now define a simple experiment, in which we will now make the glacier wider at the top (in the accumulation area). This is a common situation for valley glaciers."
   ]
  },
  {
   "cell_type": "code",
   "execution_count": null,
   "metadata": {},
   "outputs": [],
   "source": [
    "# We define the widths as before:\n",
    "widths = np.zeros(nx) + 3.\n",
    "# But we now make our glacier 600 me wide fir the first grid points:\n",
    "widths[0:15] = 6\n",
    "# Define our new bed\n",
    "wider_flowline = RectangularBedFlowline(surface_h=surface_h, bed_h=bed_h, widths=widths, map_dx=map_dx)"
   ]
  },
  {
   "cell_type": "markdown",
   "metadata": {},
   "source": [
    "We will now run our model with the new inital conditions, and store the output in a new variable for comparison:"
   ]
  },
  {
   "cell_type": "code",
   "execution_count": null,
   "metadata": {},
   "outputs": [],
   "source": [
    "# Reinitialize the model with the new input\n",
    "model = FlowlineModel(wider_flowline, mb_model=mb_model, y0=0.)\n",
    "# Array to fill with data\n",
    "nsteps = len(yrs)\n",
    "length_w = np.zeros(nsteps)\n",
    "vol_w = np.zeros(nsteps)\n",
    "# Loop\n",
    "for i, yr in enumerate(yrs):\n",
    "    model.run_until(yr)\n",
    "    length_w[i] = model.length_m\n",
    "    vol_w[i] = model.volume_km3\n",
    "# I store the final results for later use\n",
    "wider_glacier_h = model.fls[-1].surface_h"
   ]
  },
  {
   "cell_type": "markdown",
   "metadata": {},
   "source": [
    "Compare the results:"
   ]
  },
  {
   "cell_type": "code",
   "execution_count": null,
   "metadata": {},
   "outputs": [],
   "source": [
    "# Plot the initial conditions first:\n",
    "plt.plot(init_flowline.bed_h, color='k', label='Bedrock')\n",
    "# Then the final result\n",
    "plt.plot(simple_glacier_h, label='Simple glacier')\n",
    "plt.plot(wider_glacier_h, label='Wider glacier')\n",
    "plt.xlabel('Grid points')\n",
    "plt.ylabel('Altitude (m)')\n",
    "plt.legend(loc='best');"
   ]
  },
  {
   "cell_type": "code",
   "execution_count": null,
   "metadata": {},
   "outputs": [],
   "source": [
    "f, (ax1, ax2) = plt.subplots(1, 2, figsize=(14, 5))\n",
    "ax1.plot(yrs, length, label='Simple glacier');\n",
    "ax1.plot(yrs, length_w, label='Wider glacier');\n",
    "ax1.legend(loc='best')\n",
    "ax1.set_xlabel('Years')\n",
    "ax1.set_ylabel('Length (m)');\n",
    "ax2.plot(yrs, vol, label='Simple glacier');\n",
    "ax2.plot(yrs, vol_w, label='Wider glacier');\n",
    "ax2.legend(loc='best')\n",
    "ax2.set_xlabel('Years')\n",
    "ax2.set_ylabel('Volume (km3)');"
   ]
  },
  {
   "cell_type": "markdown",
   "metadata": {},
   "source": [
    "## Ice flow parameters"
   ]
  },
  {
   "cell_type": "markdown",
   "metadata": {},
   "source": [
    "The ice flow parameters are going to have a strong influence on the behavior of the glacier. The default in OGGM is to set Glen's creep parameter A to the \"standard value\" defined by Cuffey and Patterson:"
   ]
  },
  {
   "cell_type": "code",
   "execution_count": null,
   "metadata": {},
   "outputs": [],
   "source": [
    "# Default in OGGM\n",
    "print(A)"
   ]
  },
  {
   "cell_type": "markdown",
   "metadata": {},
   "source": [
    "We can change this and see what happens:"
   ]
  },
  {
   "cell_type": "code",
   "execution_count": null,
   "metadata": {},
   "outputs": [],
   "source": [
    "# Reinitialize the model with the new parameter\n",
    "model = FlowlineModel(init_flowline, mb_model=mb_model, y0=0., glen_a=A / 10)\n",
    "# Array to fill with data\n",
    "nsteps = len(yrs)\n",
    "length_s1 = np.zeros(nsteps)\n",
    "vol_s1 = np.zeros(nsteps)\n",
    "# Loop\n",
    "for i, yr in enumerate(yrs):\n",
    "    model.run_until(yr)\n",
    "    length_s1[i] = model.length_m\n",
    "    vol_s1[i] = model.volume_km3\n",
    "# I store the final results for later use\n",
    "stiffer_glacier_h = model.fls[-1].surface_h\n",
    "\n",
    "# And again\n",
    "model = FlowlineModel(init_flowline, mb_model=mb_model, y0=0., glen_a=A * 10)\n",
    "# Array to fill with data\n",
    "nsteps = len(yrs)\n",
    "length_s2 = np.zeros(nsteps)\n",
    "vol_s2 = np.zeros(nsteps)\n",
    "# Loop\n",
    "for i, yr in enumerate(yrs):\n",
    "    model.run_until(yr)\n",
    "    length_s2[i] = model.length_m\n",
    "    vol_s2[i] = model.volume_km3\n",
    "# I store the final results for later use\n",
    "softer_glacier_h = model.fls[-1].surface_h"
   ]
  },
  {
   "cell_type": "code",
   "execution_count": null,
   "metadata": {},
   "outputs": [],
   "source": [
    "# Plot the initial conditions first:\n",
    "plt.plot(init_flowline.bed_h, color='k', label='Bedrock')\n",
    "# Then the final result\n",
    "plt.plot(simple_glacier_h, label='Default A')\n",
    "plt.plot(stiffer_glacier_h, label='A / 10')\n",
    "plt.plot(softer_glacier_h, label='A * 10')\n",
    "plt.xlabel('Grid points')\n",
    "plt.ylabel('Altitude (m)')\n",
    "plt.legend(loc='best');"
   ]
  },
  {
   "cell_type": "markdown",
   "metadata": {},
   "source": [
    "In his seminal paper, Oerlemans also uses a so-called \"sliding parameter\", representing basal sliding. In OGGM this parameter is set to 0 per default, but it can be modified at whish:"
   ]
  },
  {
   "cell_type": "code",
   "execution_count": null,
   "metadata": {},
   "outputs": [],
   "source": [
    "# Change sliding to use Oerlemans value:\n",
    "model = FlowlineModel(init_flowline, mb_model=mb_model, y0=0., glen_a=A, fs=5.7e-20)\n",
    "# Array to fill with data\n",
    "nsteps = len(yrs)\n",
    "length_s3 = np.zeros(nsteps)\n",
    "vol_s3 = np.zeros(nsteps)\n",
    "# Loop\n",
    "for i, yr in enumerate(yrs):\n",
    "    model.run_until(yr)\n",
    "    length_s3[i] = model.length_m\n",
    "    vol_s3[i] = model.volume_km3\n",
    "# I store the final results for later use\n",
    "sliding_glacier_h = model.fls[-1].surface_h"
   ]
  },
  {
   "cell_type": "code",
   "execution_count": null,
   "metadata": {},
   "outputs": [],
   "source": [
    "# Plot the initial conditions first:\n",
    "plt.plot(init_flowline.bed_h, color='k', label='Bedrock')\n",
    "# Then the final result\n",
    "plt.plot(simple_glacier_h, label='Default')\n",
    "plt.plot(sliding_glacier_h, label='Sliding glacier')\n",
    "plt.xlabel('Grid points')\n",
    "plt.ylabel('Altitude (m)')\n",
    "plt.legend(loc='best');"
   ]
  },
  {
   "cell_type": "markdown",
   "metadata": {},
   "source": [
    "## More experiments for self-study"
   ]
  },
  {
   "cell_type": "markdown",
   "metadata": {},
   "source": [
    "These simple models of glacier evolution are extremely useful tools to learn about the behavior of glaciers. Here is a non-exhaustive list of questions that one could address with this simple model:\n",
    "- study the model code and try to find out how the equations are solved numerically\n",
    "- more maritime conditions lead to steeper mass balance gradients. Vary the mass balance gradient and examine the response time and equilibrium glacier profiles for various values of the mass balance gradient.\n",
    "- apply a periodically varying mass balance forcing. How long does the period T need to be chosen to let the glacier get close to equilibrium with the prescribed climate? Make a plot of the ELA versus glacier length or volume. Can you explain the hysteresis?\n",
    "- study a glacier with an overdeepening in the bed profile. Find equilibrium lengths and profiles by stepwise or slow linear changes in the mass balance forcing. Can you find two different equilibrium glaciers which are subject to the same mass balance forcing? Can you explain what is going on?\n",
    "- A surging glacier can be represented by the model by periodically (typically every 100 years for a period of 10 years) increasing the sliding factor (by a factor of 10 or so). Study the effect of a varying sliding parameter on the glacier geometry. Compare the mean equilibrium length and volume of surging and non-surging glaciers under the same climatic conditions.\n",
    "- Apply a random white-noise perturbation to the mass balance profile. What is the relation between the standard deviation of the noise and the variability of volume and length for different glaciers (e.g. steep and flat glaciers)?\n",
    "- ..."
   ]
  },
  {
   "cell_type": "code",
   "execution_count": null,
   "metadata": {},
   "outputs": [],
   "source": []
  }
 ],
 "metadata": {
  "kernelspec": {
   "display_name": "Python 3",
   "language": "python",
   "name": "python3"
  },
  "language_info": {
   "codemirror_mode": {
    "name": "ipython",
    "version": 3
   },
   "file_extension": ".py",
   "mimetype": "text/x-python",
   "name": "python",
   "nbconvert_exporter": "python",
   "pygments_lexer": "ipython3",
   "version": "3.5.2"
  }
 },
 "nbformat": 4,
 "nbformat_minor": 1
}
