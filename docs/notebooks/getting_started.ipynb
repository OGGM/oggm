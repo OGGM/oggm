{
 "cells": [
  {
   "cell_type": "markdown",
   "metadata": {},
   "source": [
    "<img src=\"https://raw.githubusercontent.com/OGGM/oggm/master/docs/_static/logo.png\" width=\"40%\"  align=\"left\">"
   ]
  },
  {
   "cell_type": "markdown",
   "metadata": {},
   "source": [
    "# Getting started with OGGM: Ötztal case study"
   ]
  },
  {
   "cell_type": "markdown",
   "metadata": {},
   "source": [
    "The OGGM workflow is best explained with an example. In this example we will show how to apply the standard [OGGM workflow](http://docs.oggm.org/en/latest/introduction.html) to a list of glaciers.\n",
    "\n",
    "We are going to use the list of glacier we use for testing the oggm codebase. The test files are located in a dedicated online repository, [oggm-sample-data](https://github.com/OGGM/oggm-sample-data)."
   ]
  },
  {
   "cell_type": "markdown",
   "metadata": {},
   "source": [
    "## Input data"
   ]
  },
  {
   "cell_type": "markdown",
   "metadata": {},
   "source": [
    "In the `test-workflow` directory you can have a look at the various files we will need. oggm also needs them for testing, so they are automatically available to everybody with a simple mechanism:"
   ]
  },
  {
   "cell_type": "code",
   "execution_count": null,
   "metadata": {},
   "outputs": [],
   "source": [
    "import oggm\n",
    "from oggm import cfg\n",
    "from oggm import utils\n",
    "cfg.initialize()\n",
    "srtm_f = utils.get_demo_file('srtm_oetztal.tif')\n",
    "rgi_f = utils.get_demo_file('rgi_oetztal.shp')\n",
    "print(srtm_f)"
   ]
  },
  {
   "cell_type": "markdown",
   "metadata": {},
   "source": [
    "The very first time that you make a call to `get_demo_file()`, oggm will create a hidden `.oggm` directory in your home folder$^*$ and download the demo files in it.\n",
    "\n",
    "<sub>*: this path might vary depending on your platform, see python's [expanduser](https://docs.python.org/3.5/library/os.path.html#os.path.expanduser)</sub>"
   ]
  },
  {
   "cell_type": "markdown",
   "metadata": {},
   "source": [
    "### DEM and glacier outlines"
   ]
  },
  {
   "cell_type": "markdown",
   "metadata": {},
   "source": [
    "The data directory contains a subset of the RGI (V5) for the Ötztal:"
   ]
  },
  {
   "cell_type": "code",
   "execution_count": null,
   "metadata": {},
   "outputs": [],
   "source": [
    "import geopandas as gpd\n",
    "rgi_shp = gpd.read_file(rgi_f).set_index('RGIId')"
   ]
  },
  {
   "cell_type": "markdown",
   "metadata": {},
   "source": [
    "We'll have a look at it, but first we will need to make some imports and set some defaults:"
   ]
  },
  {
   "cell_type": "code",
   "execution_count": null,
   "metadata": {},
   "outputs": [],
   "source": [
    "# Plot defaults\n",
    "%matplotlib inline\n",
    "import matplotlib.pyplot as plt\n",
    "# Packages\n",
    "import os\n",
    "import numpy as np\n",
    "import xarray as xr\n",
    "import shapely.geometry as shpg\n",
    "plt.rcParams['figure.figsize'] = (8, 8)  # Default plot size"
   ]
  },
  {
   "cell_type": "markdown",
   "metadata": {},
   "source": [
    "Plot the glaciers of the Ötztal case study:"
   ]
  },
  {
   "cell_type": "code",
   "execution_count": null,
   "metadata": {},
   "outputs": [],
   "source": [
    "rgi_shp.plot(edgecolor='black');"
   ]
  },
  {
   "cell_type": "markdown",
   "metadata": {},
   "source": [
    "### Calibration / validation data"
   ]
  },
  {
   "cell_type": "markdown",
   "metadata": {},
   "source": [
    "These 20 glaciers were selected because they have either mass-balance data (WGMS) or total volume information (GlaThiDa). These data are required for calibration/validation and are available automatically in OGGM."
   ]
  },
  {
   "cell_type": "markdown",
   "metadata": {},
   "source": [
    "### Climate data"
   ]
  },
  {
   "cell_type": "markdown",
   "metadata": {},
   "source": [
    "For this test case we use HISTALP data (which goes back further in time than CRU), stored in the NetCDF format. The resolution of HISTALP (5 minutes of arc) is relatively high, but some kind of downscaling will be necessary to compute the mass-balance at the glacier scale.\n",
    "\n",
    "We can plot a timeseries of the data, for example for the grid point (3, 3):"
   ]
  },
  {
   "cell_type": "code",
   "execution_count": null,
   "metadata": {},
   "outputs": [],
   "source": [
    "fig = plt.figure(figsize=(9, 3))\n",
    "with xr.open_dataset(utils.get_demo_file('HISTALP_oetztal.nc')) as ds:\n",
    "    ds.temp[:, 3, 3].resample(time=\"AS\").mean().plot()\n",
    "    plt.title('HISTALP annual temperature (°C)');"
   ]
  },
  {
   "cell_type": "markdown",
   "metadata": {},
   "source": [
    "## Setting up an OGGM run"
   ]
  },
  {
   "cell_type": "markdown",
   "metadata": {},
   "source": [
    "OGGM parameters are gathered in a configuration file. The [default file](https://github.com/OGGM/oggm/blob/master/oggm/params.cfg) is shipped with the code. It is used to initialize the configuration module:"
   ]
  },
  {
   "cell_type": "code",
   "execution_count": null,
   "metadata": {},
   "outputs": [],
   "source": [
    "from oggm import cfg\n",
    "from oggm import workflow\n",
    "cfg.initialize()  # read the default parameter file"
   ]
  },
  {
   "cell_type": "markdown",
   "metadata": {},
   "source": [
    "For example, the `cfg` module has a global variable `PATHS` (a dictionary) storing the file paths to the data and working directories:"
   ]
  },
  {
   "cell_type": "code",
   "execution_count": null,
   "metadata": {},
   "outputs": [],
   "source": [
    "cfg.PATHS"
   ]
  },
  {
   "cell_type": "markdown",
   "metadata": {},
   "source": [
    "The path to the working directory and the input data files are missing. Let's set them so that the oggm modules know where to look for them (the default would be to download them automatically, which we would like to avoid for this example):"
   ]
  },
  {
   "cell_type": "code",
   "execution_count": null,
   "metadata": {},
   "outputs": [],
   "source": [
    "cfg.PATHS['working_dir'] = os.path.expanduser('~/OGGM_Getting_Started_wd')"
   ]
  },
  {
   "cell_type": "code",
   "execution_count": null,
   "metadata": {},
   "outputs": [],
   "source": [
    "cfg.PATHS['dem_file'] = utils.get_demo_file('srtm_oetztal.tif')\n",
    "cfg.PATHS['climate_file'] = utils.get_demo_file('HISTALP_oetztal.nc')\n",
    "cfg.PARAMS['baseline_climate'] = 'CUSTOM'\n",
    "cfg.set_intersects_db(utils.get_demo_file('rgi_intersect_oetztal.shp'))"
   ]
  },
  {
   "cell_type": "markdown",
   "metadata": {},
   "source": [
    "We will set the \"border\" option to a larger value, since we will do some dynamical simulations (\"border\" decides on the number of DEM grid points we'd like to add to each side of the glacier for the local map: the larger the glacier will grow, the larger border should be):"
   ]
  },
  {
   "cell_type": "code",
   "execution_count": null,
   "metadata": {},
   "outputs": [],
   "source": [
    "cfg.PARAMS['border'] = 80"
   ]
  },
  {
   "cell_type": "markdown",
   "metadata": {},
   "source": [
    "We keep the other parameters to their default values, for example the precipitation scaling factor:"
   ]
  },
  {
   "cell_type": "code",
   "execution_count": null,
   "metadata": {},
   "outputs": [],
   "source": [
    "cfg.PARAMS['prcp_scaling_factor']"
   ]
  },
  {
   "cell_type": "markdown",
   "metadata": {},
   "source": [
    "## Glacier working directories"
   ]
  },
  {
   "cell_type": "markdown",
   "metadata": {},
   "source": [
    "An OGGM \"run\" is made of several successive tasks to be applied on each glacier. Because these tasks can be computationally expensive they are split in smaller tasks, each of them storing their results in a [glacier directory](http://docs.oggm.org/en/latest/glacierdir.html).\n",
    "\n",
    "The very first task of an OGGM run is always `init_glacier_regions`:"
   ]
  },
  {
   "cell_type": "code",
   "execution_count": null,
   "metadata": {},
   "outputs": [],
   "source": [
    "# Read in the RGI file\n",
    "import geopandas as gpd\n",
    "rgi_file = utils.get_demo_file('rgi_oetztal.shp')\n",
    "rgidf = gpd.read_file(rgi_file)\n",
    "# Initialise directories\n",
    "# reset=True will ask for confirmation if the directories are already present: \n",
    "# this is very useful if you don't want to loose hours of computations because of a command gone wrong\n",
    "gdirs = oggm.workflow.init_glacier_regions(rgidf, reset=True, force=True)"
   ]
  },
  {
   "cell_type": "markdown",
   "metadata": {},
   "source": [
    "Note that if I run `init_glacier_regions` a second time without `reset=True`, nothing special happens. The directories will not be overwritten, just \"re-opened\":"
   ]
  },
  {
   "cell_type": "code",
   "execution_count": null,
   "metadata": {},
   "outputs": [],
   "source": [
    "gdirs = workflow.init_glacier_regions(rgidf)"
   ]
  },
  {
   "cell_type": "markdown",
   "metadata": {},
   "source": [
    "Now what is the variable `gdirs`? It is a list of 19 [GlacierDirectory](http://docs.oggm.org/en/latest/generated/oggm.GlacierDirectory.html#oggm.GlacierDirectory) objects. They are here to help us to handle data input/output and to store several glacier properties. Here are some examples: "
   ]
  },
  {
   "cell_type": "code",
   "execution_count": null,
   "metadata": {},
   "outputs": [],
   "source": [
    "gdir = gdirs[13]\n",
    "gdir"
   ]
  },
  {
   "cell_type": "markdown",
   "metadata": {},
   "source": [
    "`gdir` provides a `get_filepath` function which gives access to the data files present in the directory:"
   ]
  },
  {
   "cell_type": "code",
   "execution_count": null,
   "metadata": {},
   "outputs": [],
   "source": [
    "gdir.get_filepath('dem')"
   ]
  },
  {
   "cell_type": "markdown",
   "metadata": {},
   "source": [
    "`dem.tif` is a local digital elevation map with a spatial resolution chosen by OGGM as a function of the glacier size. These [GlacierDirectory](http://docs.oggm.org/en/latest/generated/oggm.GlacierDirectory.html#oggm.GlacierDirectory) objects are going to be the input of almost every OGGM task.\n",
    "\n",
    "This data model has been chosen so that even complex functions requires serval input data can be called with one single argument: "
   ]
  },
  {
   "cell_type": "code",
   "execution_count": null,
   "metadata": {},
   "outputs": [],
   "source": [
    "from oggm import graphics\n",
    "graphics.plot_googlemap(gdir)"
   ]
  },
  {
   "cell_type": "markdown",
   "metadata": {},
   "source": [
    "## OGGM tasks"
   ]
  },
  {
   "cell_type": "markdown",
   "metadata": {},
   "source": [
    "The workflow of OGGM is oriented around the concept of \"[tasks](http://docs.oggm.org/en/latest/api.html#entity-tasks)\". There are two different types:\n",
    "\n",
    "**Entity Task**:\n",
    "  Standalone operations to be realized on one single glacier entity,\n",
    "  independently from the others. The majority of OGGM\n",
    "  tasks are entity tasks. They are parallelisable.\n",
    "\n",
    "**Global Task**:\n",
    "  tasks which require to work on several glacier entities\n",
    "  at the same time. Model parameter calibration or interpolation of degree day factors belong to\n",
    "  this type of task. They are not parallelisable.\n",
    "  \n",
    "OGGM implements a simple mechanism to run a specific task on a list of `GlacierDir` objects (here, the function `glacier_masks()` from the module `oggm.prepro.gis`):"
   ]
  },
  {
   "cell_type": "code",
   "execution_count": null,
   "metadata": {},
   "outputs": [],
   "source": [
    "from oggm import tasks"
   ]
  },
  {
   "cell_type": "code",
   "execution_count": null,
   "metadata": {},
   "outputs": [],
   "source": [
    "# run the glacier_masks task on all gdirs\n",
    "workflow.execute_entity_task(tasks.glacier_masks, gdirs)"
   ]
  },
  {
   "cell_type": "markdown",
   "metadata": {},
   "source": [
    "We just computed gridded boolean [masks](http://docs.oggm.org/en/latest/generated/oggm.tasks.glacier_masks.html#oggm.tasks.glacier_masks) out of the RGI outlines.\n",
    "\n",
    "It is also possible to apply several tasks sequentially:"
   ]
  },
  {
   "cell_type": "code",
   "execution_count": null,
   "metadata": {},
   "outputs": [],
   "source": [
    "list_talks = [\n",
    "         tasks.compute_centerlines,\n",
    "         tasks.initialize_flowlines,\n",
    "         tasks.catchment_area,\n",
    "         tasks.catchment_width_geom,\n",
    "         tasks.catchment_width_correction,\n",
    "         tasks.compute_downstream_line,\n",
    "         tasks.compute_downstream_bedshape\n",
    "         ]\n",
    "for task in list_talks:\n",
    "    workflow.execute_entity_task(task, gdirs)"
   ]
  },
  {
   "cell_type": "markdown",
   "metadata": {},
   "source": [
    "The function `execute_task` can run a task on different glaciers at the same time, if the `use_multiprocessing` option is set to `True` in the configuration file. "
   ]
  },
  {
   "cell_type": "markdown",
   "metadata": {},
   "source": [
    "With all these tasks we just computed the glacier flowlines and their width:"
   ]
  },
  {
   "cell_type": "code",
   "execution_count": null,
   "metadata": {},
   "outputs": [],
   "source": [
    "graphics.plot_catchment_width(gdir, corrected=True)"
   ]
  },
  {
   "cell_type": "markdown",
   "metadata": {},
   "source": [
    "### Global tasks, climate tasks"
   ]
  },
  {
   "cell_type": "markdown",
   "metadata": {},
   "source": [
    "We will go into more detail about tasks in the documentation. For now, we will use the helper function:"
   ]
  },
  {
   "cell_type": "code",
   "execution_count": null,
   "metadata": {},
   "outputs": [],
   "source": [
    "# We calibrate tstars ourselves\n",
    "cfg.PARAMS['run_mb_calibration'] = True\n",
    "workflow.climate_tasks(gdirs)"
   ]
  },
  {
   "cell_type": "markdown",
   "metadata": {},
   "source": [
    "We just read the climate data, \"downscaled\" it to each glacier, computed possible $\\mu^*$ for the reference glaciers, picked the best one, interpolated the corresponding $t^*$ to glaciers without mass-balance observations, computed the mass-balance sensitivity $\\mu$ for all glaciers and finally computed the mass-balance at equilibrium (the \"apparent mb\" in Farinotti et al., 2009)."
   ]
  },
  {
   "cell_type": "markdown",
   "metadata": {},
   "source": [
    "## Inversion"
   ]
  },
  {
   "cell_type": "markdown",
   "metadata": {
    "collapsed": true
   },
   "source": [
    "This is where things become a bit more complicated. The inversion is already fully automated in OGGM, but there is not yet a generally accepted way to calibrate it. For this tutorial we will try to explain in more detail what is happening."
   ]
  },
  {
   "cell_type": "markdown",
   "metadata": {},
   "source": [
    "### Defaut parameters"
   ]
  },
  {
   "cell_type": "markdown",
   "metadata": {},
   "source": [
    "Let's start with the default, which is to use the standard ice creep parameter A and no sliding:"
   ]
  },
  {
   "cell_type": "code",
   "execution_count": null,
   "metadata": {},
   "outputs": [],
   "source": [
    "list_talks = [\n",
    "         tasks.prepare_for_inversion,  # This is a preprocessing task\n",
    "         tasks.mass_conservation_inversion,  # This does the actual job\n",
    "         tasks.filter_inversion_output  # This smoothes the thicknesses at the tongue a little\n",
    "         ]\n",
    "for task in list_talks:\n",
    "    workflow.execute_entity_task(task, gdirs)"
   ]
  },
  {
   "cell_type": "markdown",
   "metadata": {},
   "source": [
    "Let's what we have:"
   ]
  },
  {
   "cell_type": "code",
   "execution_count": null,
   "metadata": {},
   "outputs": [],
   "source": [
    "# Select HEF out of all glaciers\n",
    "gdir_hef = [gd for gd in gdirs if (gd.rgi_id == 'RGI50-11.00897')][0]\n",
    "graphics.plot_inversion(gdir_hef)"
   ]
  },
  {
   "cell_type": "markdown",
   "metadata": {},
   "source": [
    "The computed volume of Hintereisferner is 0.77 km$^{3}$. According to Fisher et al, 2013, this volume should be 0.573 km$^{3}$, which is a bit less then computed. This is not too surprising, since we use a default setting and no basal sliding, all this likely to overestimate the thickness."
   ]
  },
  {
   "cell_type": "markdown",
   "metadata": {},
   "source": [
    "### Inversion model sensitivity "
   ]
  },
  {
   "cell_type": "markdown",
   "metadata": {},
   "source": [
    "How sensitive is the inversion to changes in the A parameter?"
   ]
  },
  {
   "cell_type": "code",
   "execution_count": null,
   "metadata": {},
   "outputs": [],
   "source": [
    "factor = np.linspace(0.1, 10, 30)\n",
    "thick = factor*0\n",
    "for i, f in enumerate(factor):\n",
    "    vol_m3, area_m3 = tasks.mass_conservation_inversion(gdir_hef, glen_a=cfg.PARAMS['glen_a']*f, print_log=False)\n",
    "    thick[i] = vol_m3/area_m3\n",
    "plt.figure(figsize=(6, 4))\n",
    "plt.plot(factor, thick);\n",
    "plt.ylabel('Mean thickness (m)');\n",
    "plt.xlabel('Multiplier');"
   ]
  },
  {
   "cell_type": "markdown",
   "metadata": {},
   "source": [
    "The shape of the curve is explained by the physics of ice. As you can see, tuning this parameter is not an easy task."
   ]
  },
  {
   "cell_type": "markdown",
   "metadata": {},
   "source": [
    "### Finalize the inversion "
   ]
  },
  {
   "cell_type": "code",
   "execution_count": null,
   "metadata": {},
   "outputs": [],
   "source": [
    "# For the rest of the examples, we don't use the optimal parameters but the default ones\n",
    "cfg.PARAMS['optimize_inversion_params'] = False\n",
    "workflow.execute_entity_task(tasks.mass_conservation_inversion, gdirs)\n",
    "workflow.execute_entity_task(tasks.filter_inversion_output, gdirs)"
   ]
  },
  {
   "cell_type": "markdown",
   "metadata": {},
   "source": [
    "The results of the inversion (and other useful parameters) can be combined with a utilitary function:"
   ]
  },
  {
   "cell_type": "code",
   "execution_count": null,
   "metadata": {},
   "outputs": [],
   "source": [
    "df = utils.glacier_characteristics(gdirs)\n",
    "ax = df.plot.scatter(x='rgi_area_km2', y='inv_volume_km3', color='C3')\n",
    "ax.semilogx(); ax.semilogy();"
   ]
  },
  {
   "cell_type": "markdown",
   "metadata": {},
   "source": [
    "## Dynamics "
   ]
  },
  {
   "cell_type": "markdown",
   "metadata": {},
   "source": [
    "For the dynamics refer to the other notebooks in the same folder!"
   ]
  },
  {
   "cell_type": "markdown",
   "metadata": {},
   "source": [
    "## Set up a run "
   ]
  },
  {
   "cell_type": "markdown",
   "metadata": {},
   "source": [
    "For setting up a real OGGM run with your own data, refer to [the documentation](http://docs.oggm.org/en/latest/run.html)!"
   ]
  }
 ],
 "metadata": {
  "hide_input": false,
  "kernelspec": {
   "display_name": "Python 3",
   "language": "python",
   "name": "python3"
  },
  "language_info": {
   "codemirror_mode": {
    "name": "ipython",
    "version": 3
   },
   "file_extension": ".py",
   "mimetype": "text/x-python",
   "name": "python",
   "nbconvert_exporter": "python",
   "pygments_lexer": "ipython3",
   "version": "3.5.2"
  },
  "toc": {
   "base_numbering": 1.0,
   "nav_menu": {},
   "number_sections": false,
   "sideBar": true,
   "skip_h1_title": true,
   "title_cell": "Table of Contents",
   "title_sidebar": "Contents",
   "toc_cell": false,
   "toc_position": {},
   "toc_section_display": true,
   "toc_window_display": false
  }
 },
 "nbformat": 4,
 "nbformat_minor": 1
}
