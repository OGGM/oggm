{
 "cells": [
  {
   "cell_type": "markdown",
   "metadata": {},
   "source": [
    "<img src=\"https://raw.githubusercontent.com/OGGM/oggm/master/docs/_static/logo.png\" width=\"40%\"  align=\"left\">"
   ]
  },
  {
   "cell_type": "markdown",
   "metadata": {},
   "source": [
    "# Getting started with OGGM: Ötztal case study"
   ]
  },
  {
   "cell_type": "markdown",
   "metadata": {},
   "source": [
    "The OGGM workflow is best explained with an example. We are going to use the case we use for testing the oggm codebase. The test files are located in a dedicated online repository, [oggm-sample-data](https://github.com/OGGM/oggm-sample-data)."
   ]
  },
  {
   "cell_type": "markdown",
   "metadata": {},
   "source": [
    "## Input data"
   ]
  },
  {
   "cell_type": "markdown",
   "metadata": {},
   "source": [
    "In the `test-workflow` directory you can have a look at the various files we will need. oggm also needs them for testing, so they are automatically available to everybody with a simple mechanism:"
   ]
  },
  {
   "cell_type": "code",
   "execution_count": null,
   "metadata": {
    "collapsed": false
   },
   "outputs": [],
   "source": [
    "from oggm.utils import get_demo_file\n",
    "srtm_f = get_demo_file('srtm_oetztal.tif')\n",
    "rgi_f = get_demo_file('rgi_oetztal.shp')\n",
    "print(srtm_f)"
   ]
  },
  {
   "cell_type": "markdown",
   "metadata": {},
   "source": [
    "The very first time that you make a call to `get_demo_file()`, oggm will create a hidden `.oggm` directory in your home folder$^*$ and download the demo files in it.\n",
    "\n",
    "<sub>*: this path might vary depending on your platform, see python's [expanduser](https://docs.python.org/3.5/library/os.path.html#os.path.expanduser)</sub>. "
   ]
  },
  {
   "cell_type": "markdown",
   "metadata": {},
   "source": [
    "### DEM and glacier outlines"
   ]
  },
  {
   "cell_type": "markdown",
   "metadata": {},
   "source": [
    "The data directory contains a subset of the RGI V4 for the Ötztal:"
   ]
  },
  {
   "cell_type": "code",
   "execution_count": null,
   "metadata": {
    "collapsed": false
   },
   "outputs": [],
   "source": [
    "import salem  # https://github.com/fmaussion/salem\n",
    "rgi_shp = salem.read_shapefile(rgi_f).set_index('RGIID')"
   ]
  },
  {
   "cell_type": "markdown",
   "metadata": {},
   "source": [
    "We'll have a look at it, but first we will need to make some imports and set some stuffs:"
   ]
  },
  {
   "cell_type": "code",
   "execution_count": null,
   "metadata": {
    "collapsed": false
   },
   "outputs": [],
   "source": [
    "# Plot defaults\n",
    "%matplotlib inline\n",
    "import matplotlib.pyplot as plt\n",
    "# Packages\n",
    "import os\n",
    "import shapely.geometry as shpg\n",
    "plt.rcParams['figure.figsize'] = (8, 8)  # Default plot size\n",
    "# Set the default logger \n",
    "import logging\n",
    "logging.basicConfig(format='%(asctime)s: %(name)s: %(message)s',\n",
    "                    datefmt='%Y-%m-%d %H:%M:%S', level=logging.INFO)\n",
    "logger = logging.getLogger()\n",
    "logger.setLevel(logging.INFO)"
   ]
  },
  {
   "cell_type": "markdown",
   "metadata": {},
   "source": [
    "Plot the glaciers of the Ötztal case study:"
   ]
  },
  {
   "cell_type": "code",
   "execution_count": null,
   "metadata": {
    "collapsed": false
   },
   "outputs": [],
   "source": [
    "# Open the DEM file\n",
    "dem = salem.GeoTiff(srtm_f)\n",
    "# Center the map on the region of interest\n",
    "dem.set_subset(margin=-80)\n",
    "cmap = salem.Map(dem.grid, countries=False)\n",
    "cmap.set_topography(dem.get_vardata())\n",
    "# Add a reference point for Vent and Obergurgl\n",
    "cmap.set_geometry(shpg.Point(10.913889, 46.859444), facecolor='k', text='Vent')\n",
    "cmap.set_geometry(shpg.Point(11.016667, 46.866667), facecolor='k', text='Obergurgl', \n",
    "                  text_delta=(-0.01, 0.01), text_kwargs={'horizontalalignment':'right'})\n",
    "# Plot the RGI file\n",
    "cmap.set_shapefile(rgi_f, edgecolor='crimson', linewidth=2, label='RGI')\n",
    "cmap.visualize()"
   ]
  },
  {
   "cell_type": "markdown",
   "metadata": {},
   "source": [
    "### WGMS and GlaThiDa "
   ]
  },
  {
   "cell_type": "markdown",
   "metadata": {},
   "source": [
    "These are 19 selected glaciers where we have either mass-balance data (WGMS) or volume information (GlaThiDa). These data are required for calibration/validation and are also available from the test directory:"
   ]
  },
  {
   "cell_type": "code",
   "execution_count": null,
   "metadata": {
    "collapsed": true
   },
   "outputs": [],
   "source": [
    "import pandas as pd\n",
    "df_gtd = pd.read_csv(get_demo_file('RGI_GLATHIDA_oetztal.csv'))\n",
    "df_wgms = pd.read_csv(get_demo_file('RGI_WGMS_oetztal.csv'))"
   ]
  },
  {
   "cell_type": "code",
   "execution_count": null,
   "metadata": {
    "collapsed": false
   },
   "outputs": [],
   "source": [
    "x, y = rgi_shp.loc[df_gtd.RGI_ID].CENLON, rgi_shp.loc[df_gtd.RGI_ID].CENLAT\n",
    "cmap.set_points(x, y, marker='x', c='blue', label='GlaThiDa')\n",
    "x, y = rgi_shp.loc[df_wgms.RGI_ID].CENLON, rgi_shp.loc[df_wgms.RGI_ID].CENLAT\n",
    "cmap.set_points(x, y, marker='o', s=100, facecolor='none', edgecolor='purple', label='WGMS')\n",
    "cmap.visualize()\n",
    "plt.legend();"
   ]
  },
  {
   "cell_type": "markdown",
   "metadata": {},
   "source": [
    "### Climate data"
   ]
  },
  {
   "cell_type": "markdown",
   "metadata": {},
   "source": [
    "We use HISTALP data (which goes back further in time than CRU), stored in the NetCDF format:"
   ]
  },
  {
   "cell_type": "code",
   "execution_count": null,
   "metadata": {
    "collapsed": false
   },
   "outputs": [],
   "source": [
    "nc = salem.GeoNetcdf(get_demo_file('HISTALP_oetztal.nc'))\n",
    "t2 = np.mean(nc.get_vardata('temp'), axis=0)\n",
    "cmap.set_data(t2, nc.grid)\n",
    "cmap.set_cmap(plt.get_cmap('viridis'))\n",
    "cmap.set_nlevels(256)\n",
    "cmap.visualize()"
   ]
  },
  {
   "cell_type": "markdown",
   "metadata": {},
   "source": [
    "The resolution of HISTALP (5 minutes of arc) is quite high, but you can see that some kind of downscaling will be necessary to compute the mass-balance at the glacier scale.\n",
    "\n",
    "We can also plot a timeseries of the data, for example for the grid point (3, 3):"
   ]
  },
  {
   "cell_type": "code",
   "execution_count": null,
   "metadata": {
    "collapsed": false
   },
   "outputs": [],
   "source": [
    "fig = plt.figure(figsize=(9, 3))\n",
    "title = 'Temp at point (3, 3), altitude {}m'.format(nc.get_vardata('hgt')[3, 3])\n",
    "pd.Series(nc.get_vardata('temp')[:, 3, 3], index=nc.time).resample('A').mean().plot(title=title);"
   ]
  },
  {
   "cell_type": "markdown",
   "metadata": {},
   "source": [
    "## Setting up an OGGM run"
   ]
  },
  {
   "cell_type": "markdown",
   "metadata": {},
   "source": [
    "OGGM parameters are gathered in a configuration file. The [default file](https://github.com/OGGM/oggm/blob/master/oggm/params.cfg) is shipped with the code. It is used to initialize the configuration module:"
   ]
  },
  {
   "cell_type": "code",
   "execution_count": null,
   "metadata": {
    "collapsed": false
   },
   "outputs": [],
   "source": [
    "import oggm\n",
    "from oggm import cfg\n",
    "from oggm import workflow\n",
    "cfg.initialize()  # read the default parameter file"
   ]
  },
  {
   "cell_type": "markdown",
   "metadata": {},
   "source": [
    "For example, the `cfg` module has a global variable `PATHS` (a dictionary) storing the file paths to the data and working directories:"
   ]
  },
  {
   "cell_type": "code",
   "execution_count": null,
   "metadata": {
    "collapsed": false
   },
   "outputs": [],
   "source": [
    "print(cfg.PATHS)"
   ]
  },
  {
   "cell_type": "markdown",
   "metadata": {},
   "source": [
    "The path to the input data files are missing. Let's set them so that the oggm modules know where to look for them:"
   ]
  },
  {
   "cell_type": "code",
   "execution_count": null,
   "metadata": {
    "collapsed": true
   },
   "outputs": [],
   "source": [
    "cfg.PATHS['dem_file'] = get_demo_file('srtm_oetztal.tif')\n",
    "cfg.PATHS['climate_file'] = get_demo_file('HISTALP_oetztal.nc')\n",
    "cfg.PATHS['wgms_rgi_links'] = get_demo_file('RGI_WGMS_oetztal.csv')\n",
    "cfg.PATHS['glathida_rgi_links'] = get_demo_file('RGI_GLATHIDA_oetztal.csv')\n",
    "# This is the database for the glacier divides (currently only Hintereisferner):\n",
    "cfg.set_divides_db(get_demo_file('HEF_divided.shp'))"
   ]
  },
  {
   "cell_type": "markdown",
   "metadata": {},
   "source": [
    "We keep the other parameters to their default values, for example the precipitation scaling factor:"
   ]
  },
  {
   "cell_type": "code",
   "execution_count": null,
   "metadata": {
    "collapsed": false
   },
   "outputs": [],
   "source": [
    "print(cfg.PARAMS['prcp_scaling_factor'])"
   ]
  },
  {
   "cell_type": "markdown",
   "metadata": {},
   "source": [
    "## Glacier working directories"
   ]
  },
  {
   "cell_type": "markdown",
   "metadata": {},
   "source": [
    "An OGGM \"run\" is made of several successive tasks to be applied on each glacier. Because these tasks can be computationally expensive they are split in smaller tasks, each of them storing their results in a [glacier directory](http://oggm.readthedocs.org/en/latest/glacierdir-gen.html).\n",
    "\n",
    "The very first task of an OGGM run is always `init_glacier_regions`:"
   ]
  },
  {
   "cell_type": "code",
   "execution_count": null,
   "metadata": {
    "collapsed": false
   },
   "outputs": [],
   "source": [
    "# Read in the RGI file\n",
    "import geopandas as gpd\n",
    "rgi_file = get_demo_file('rgi_oetztal.shp')\n",
    "rgidf = gpd.GeoDataFrame.from_file(rgi_file)\n",
    "# Initialise directories\n",
    "# reset=True will ask for confirmation if the directories are already present: \n",
    "# this is very useful if you don't want to loose hours of computations because of a single command\n",
    "gdirs = oggm.workflow.init_glacier_regions(rgidf, reset=True)"
   ]
  },
  {
   "cell_type": "markdown",
   "metadata": {},
   "source": [
    "Note that if I run `init_glacier_regions` a second time without `reset=True`, nothing special happens. The directories will not be overwritten, just \"re-opened\":"
   ]
  },
  {
   "cell_type": "code",
   "execution_count": null,
   "metadata": {
    "collapsed": true
   },
   "outputs": [],
   "source": [
    "gdirs = workflow.init_glacier_regions(rgidf)"
   ]
  },
  {
   "cell_type": "markdown",
   "metadata": {},
   "source": [
    "Now what is the variable `gdirs`? It is a list of 19 [GlacierDirectory](http://oggm.readthedocs.org/en/latest/generated/oggm.GlacierDirectory.html#oggm.GlacierDirectory) objects. They are here to help us to handle data I/O and to store several glacier properties. Here are some examples: "
   ]
  },
  {
   "cell_type": "code",
   "execution_count": null,
   "metadata": {
    "collapsed": false
   },
   "outputs": [],
   "source": [
    "gdir = gdirs[13]\n",
    "print('Directory containing the glacier data:', gdir.dir)\n",
    "print('RGI identifier:', gdir.rgi_id)\n",
    "print('RGI outline date:', gdir.rgi_date)\n",
    "print('RGI glacier area in km2:', gdir.rgi_area_km2)\n",
    "print('OGGM glacier grid size in m:', gdir.grid.dx)"
   ]
  },
  {
   "cell_type": "markdown",
   "metadata": {},
   "source": [
    "`gdir` provides a `get_filepath` function which gives access to the data files present in the directory:"
   ]
  },
  {
   "cell_type": "code",
   "execution_count": null,
   "metadata": {
    "collapsed": false
   },
   "outputs": [],
   "source": [
    "gdir.get_filepath('dem')"
   ]
  },
  {
   "cell_type": "markdown",
   "metadata": {},
   "source": [
    "`dem.tif` is a local digital elevation map with a spatial resolution chosen by OGGM as a function of the glacier size. These [GlacierDirectory](http://oggm.readthedocs.org/en/latest/generated/oggm.GlacierDirectory.html#oggm.GlacierDirectory) objects are going to be the input of almost every OGGM task.\n",
    "\n",
    "This data model has been chosen so that even complex functions requires serval input data can be called with one single argument: "
   ]
  },
  {
   "cell_type": "code",
   "execution_count": null,
   "metadata": {
    "collapsed": false
   },
   "outputs": [],
   "source": [
    "from oggm import graphics\n",
    "graphics.plot_googlemap(gdir)"
   ]
  },
  {
   "cell_type": "markdown",
   "metadata": {},
   "source": [
    "## OGGM tasks"
   ]
  },
  {
   "cell_type": "markdown",
   "metadata": {},
   "source": [
    "The workflow of OGGM is oriented around the concept of \"[tasks](http://oggm.readthedocs.org/en/latest/api.html#entity-tasks)\". There are two different types:\n",
    "\n",
    "**Entity Task**:\n",
    "  Standalone operations to be realized on one single glacier entity,\n",
    "  independently from the others. The majority of OGGM\n",
    "  tasks are entity tasks. They are parallelisable.\n",
    "\n",
    "**Global Task**:\n",
    "  tasks which require to work on several glacier entities\n",
    "  at the same time. Model parameter calibration or interpolation of degree day factors belong to\n",
    "  this type of task. They are not parallelisable.\n",
    "  \n",
    "OGGM implements a simple mechanism to run a specific task on a list of `GlacierDir` objects (here, the function `glacier_masks()` from the module `oggm.prepro.gis`):"
   ]
  },
  {
   "cell_type": "code",
   "execution_count": null,
   "metadata": {
    "collapsed": true
   },
   "outputs": [],
   "source": [
    "from oggm import tasks"
   ]
  },
  {
   "cell_type": "code",
   "execution_count": null,
   "metadata": {
    "collapsed": false
   },
   "outputs": [],
   "source": [
    "# run the glacier_masks task on all gdirs\n",
    "workflow.execute_entity_task(tasks.glacier_masks, gdirs)"
   ]
  },
  {
   "cell_type": "markdown",
   "metadata": {},
   "source": [
    "We just computed gridded boolean [masks](http://oggm.readthedocs.org/en/latest/generated/oggm.tasks.glacier_masks.html#oggm.tasks.glacier_masks) out of the RGI outlines.\n",
    "\n",
    "It is also possible to apply several tasks sequentially:"
   ]
  },
  {
   "cell_type": "code",
   "execution_count": null,
   "metadata": {
    "collapsed": false
   },
   "outputs": [],
   "source": [
    "list_talks = [\n",
    "         tasks.compute_centerlines,\n",
    "         tasks.compute_downstream_lines,\n",
    "         tasks.catchment_area,\n",
    "         tasks.initialize_flowlines,\n",
    "         tasks.catchment_width_geom,\n",
    "         tasks.catchment_width_correction\n",
    "         ]\n",
    "for task in list_talks:\n",
    "    workflow.execute_entity_task(task, gdirs)"
   ]
  },
  {
   "cell_type": "markdown",
   "metadata": {},
   "source": [
    "The function `execute_task` can run a task on different glaciers at the same time, if the `use_multiprocessing` option is set to `True` in the configuration file. "
   ]
  },
  {
   "cell_type": "markdown",
   "metadata": {},
   "source": [
    "With all these tasks we just computed the glacier flowlines and their width:"
   ]
  },
  {
   "cell_type": "code",
   "execution_count": null,
   "metadata": {
    "collapsed": false
   },
   "outputs": [],
   "source": [
    "graphics.plot_catchment_width(gdir)"
   ]
  },
  {
   "cell_type": "markdown",
   "metadata": {},
   "source": [
    "### Global tasks, climate tasks"
   ]
  },
  {
   "cell_type": "markdown",
   "metadata": {},
   "source": [
    "We will go into more detail about tasks and global tasks when I have more time to write a good documentation. For now, we will use the helper function:"
   ]
  },
  {
   "cell_type": "code",
   "execution_count": null,
   "metadata": {
    "collapsed": false
   },
   "outputs": [],
   "source": [
    "workflow.climate_tasks(gdirs)"
   ]
  },
  {
   "cell_type": "markdown",
   "metadata": {},
   "source": [
    "We just read the climate data, \"downscaled\" it to each glacier, computed possible $\\mu^*$ for the reference glaciers, picked the best one, interpolated the corresponding $t^*$ to glaciers without mass-balance observations, computed the mass-balance sensitivity $\\mu$ for all glaciers and finally computed the mass-balance at equilibrium (the \"apparent mb\" in Farinotti et al., 2009).\n",
    "\n",
    "Finally, we will prepare the data for the inversion, which is an easy:"
   ]
  },
  {
   "cell_type": "code",
   "execution_count": null,
   "metadata": {
    "collapsed": false
   },
   "outputs": [],
   "source": [
    "workflow.execute_entity_task(tasks.prepare_for_inversion, gdirs)"
   ]
  },
  {
   "cell_type": "markdown",
   "metadata": {},
   "source": [
    "## Inversion"
   ]
  },
  {
   "cell_type": "markdown",
   "metadata": {
    "collapsed": true
   },
   "source": [
    "This is where things become a bit more complicated. The inversion is already fully automated in OGGM, but for this tutorial we will try to explain in more detail what is happening.\n",
    "\n",
    "Let's start with the funcion `invert_parabolic_bed`:"
   ]
  },
  {
   "cell_type": "code",
   "execution_count": null,
   "metadata": {
    "collapsed": true
   },
   "outputs": [],
   "source": [
    "from oggm.core.preprocessing.inversion import invert_parabolic_bed"
   ]
  },
  {
   "cell_type": "markdown",
   "metadata": {},
   "source": [
    "This function will compute the ice thickness along the flowline. It has one free parameter (or too, if you also want to consider the basal sliding term in the inversion): Glen's deformation parameter A. Let's compute the bed inversion for Hintereisferner and the default A: "
   ]
  },
  {
   "cell_type": "code",
   "execution_count": null,
   "metadata": {
    "collapsed": false
   },
   "outputs": [],
   "source": [
    "# Select HEF out of all glaciers\n",
    "gdir_hef = [gd for gd in gdirs if (gd.rgi_id == 'RGI40-11.00897')][0]"
   ]
  },
  {
   "cell_type": "code",
   "execution_count": null,
   "metadata": {
    "collapsed": false
   },
   "outputs": [],
   "source": [
    "glen_a = cfg.A\n",
    "vol_m3, area_m3 = invert_parabolic_bed(gdir_hef, glen_a=glen_a)\n",
    "print('With A={}, the mean thickness of HEF is {:.1f} m'.format(glen_a, vol_m3/area_m3))"
   ]
  },
  {
   "cell_type": "code",
   "execution_count": null,
   "metadata": {
    "collapsed": false
   },
   "outputs": [],
   "source": [
    "graphics.plot_inversion(gdir_hef)"
   ]
  },
  {
   "cell_type": "markdown",
   "metadata": {},
   "source": [
    "We know from the literature (Fisher et al, 2013) that the HEF should have an average thickness of 67$\\pm$7 m. How sensitive is the inversion to changes in the A parameter?"
   ]
  },
  {
   "cell_type": "code",
   "execution_count": null,
   "metadata": {
    "collapsed": false
   },
   "outputs": [],
   "source": [
    "factor = np.linspace(0.1, 10, 30)\n",
    "thick = factor*0\n",
    "for i, f in enumerate(factor):\n",
    "    vol_m3, area_m3 = invert_parabolic_bed(gdir_hef, glen_a=glen_a*f)\n",
    "    thick[i] = vol_m3/area_m3\n",
    "plt.figure(figsize=(6, 4))\n",
    "plt.plot(factor, thick);\n",
    "plt.ylabel('Mean thickness (m)');\n",
    "plt.xlabel('Multiplier');"
   ]
  },
  {
   "cell_type": "markdown",
   "metadata": {},
   "source": [
    "The A parameter controls the deformation of the ice, and therefore the thickness. It is always possible to find a \"perfect\" A for each glacier with measurements, for example by using an optimisation function. The current way to deal with this in OGGM is to use all glaciers with a volume estimate from the GLaThiDa database, and define A so that the **volume RMSD** is minimized. The reason for choosing the volume (which is strongly affected by the area) over the thickness is that with this method, larger glaciers will have more influence on the final results."
   ]
  },
  {
   "cell_type": "code",
   "execution_count": null,
   "metadata": {
    "collapsed": false
   },
   "outputs": [],
   "source": [
    "optim_resuls = tasks.optimize_inversion_params(gdirs)"
   ]
  },
  {
   "cell_type": "markdown",
   "metadata": {},
   "source": [
    "The `optimize_inversion_params` task also writes some statistics in the working directory:"
   ]
  },
  {
   "cell_type": "code",
   "execution_count": null,
   "metadata": {
    "collapsed": false
   },
   "outputs": [],
   "source": [
    "fpath = os.path.join(cfg.PATHS['working_dir'], 'inversion_optim_results.csv')\n",
    "df = pd.read_csv(fpath, index_col=0)\n",
    "df['ref_thick'] = df['ref_volume_km3'] / df['ref_area_km2'] * 1e3\n",
    "df['oggm_thick'] = df['oggm_volume_km3'] / df['ref_area_km2'] * 1e3\n",
    "df['vas_thick'] = df['vas_volume_km3'] / df['ref_area_km2'] * 1e3"
   ]
  },
  {
   "cell_type": "code",
   "execution_count": null,
   "metadata": {
    "collapsed": false
   },
   "outputs": [],
   "source": [
    "fig, (ax1, ax2) = plt.subplots(1, 2, figsize=(12, 6))\n",
    "ax1.scatter(df['ref_thick'], df['oggm_thick'], s=100)\n",
    "ax1.set_title('OGGM RMSD: {:.2f}'.format(oggm.utils.rmsd(df['ref_thick'], df['oggm_thick'])))\n",
    "ax1.set_xlabel('Ref thickness')\n",
    "ax1.set_ylabel('OGGM thickness')\n",
    "ax1.plot([0, 100], [0, 100], '.:k', zorder=0);\n",
    "ax1.set_xlim([0, 100]), ax1.set_ylim([0, 100]);\n",
    "ax2.scatter(df['ref_thick'], df['vas_thick'], s=100)\n",
    "ax2.set_title('Volume-Area RMSD: {:.2f}'.format(oggm.utils.rmsd(df['ref_thick'], df['vas_thick'])))\n",
    "ax2.set_xlabel('Ref thickness')\n",
    "ax2.set_ylabel('VAS thickness')\n",
    "ax2.plot([0, 100], [0, 100], '.:k', zorder=0);\n",
    "ax2.set_xlim([0, 100]), ax2.set_ylim([0, 100]);"
   ]
  },
  {
   "cell_type": "code",
   "execution_count": null,
   "metadata": {
    "collapsed": true
   },
   "outputs": [],
   "source": [
    "#TODO: try more inversion things here"
   ]
  },
  {
   "cell_type": "markdown",
   "metadata": {
    "collapsed": true
   },
   "source": [
    "## Flowline model"
   ]
  },
  {
   "cell_type": "markdown",
   "metadata": {},
   "source": [
    "All the previous steps are necessary to run the flowline model: the computation of the flowline(s) and their width, the interpolation of the climate data, the mass-balance sensitivity $\\mu$, an estimate of the glacier bed...\n",
    "\n",
    "All this data are stored in the glacier directories. For example for HEF the data should be approx 2.2 Mb. You can explore the various files available in the directory printed below:"
   ]
  },
  {
   "cell_type": "code",
   "execution_count": null,
   "metadata": {
    "collapsed": false
   },
   "outputs": [],
   "source": [
    "print(gdir_hef.dir)"
   ]
  },
  {
   "cell_type": "markdown",
   "metadata": {},
   "source": [
    "The files are partly documented [here](http://oggm.readthedocs.org/en/latest/glacierdir-gen.html#cfg-basenames)."
   ]
  },
  {
   "cell_type": "markdown",
   "metadata": {},
   "source": [
    "The first task to apply before using the model is the ``init_present_time_glacier`` function:"
   ]
  },
  {
   "cell_type": "code",
   "execution_count": null,
   "metadata": {
    "collapsed": false
   },
   "outputs": [],
   "source": [
    "tasks.init_present_time_glacier(gdir_hef)"
   ]
  },
  {
   "cell_type": "markdown",
   "metadata": {},
   "source": [
    "This task is required to merge the various glacier divides back together and to allow the glacier to grow by adding the downstream flowlines. This function also decides on the [shape](http://oggm.readthedocs.org/en/latest/flowline.html#glacier-bed-shapes) of the glacier bed along the flowlines and downstream (currently an \"average\" parabolic shape is chosen). Let's initialize our model with this geometry:"
   ]
  },
  {
   "cell_type": "code",
   "execution_count": null,
   "metadata": {
    "collapsed": false
   },
   "outputs": [],
   "source": [
    "from oggm.core.models.flowline import FluxBasedModel\n",
    "# the flowlines alone\n",
    "fls = gdir_hef.read_pickle('model_flowlines')\n",
    "model = FluxBasedModel(fls)\n",
    "graphics.plot_modeloutput_map(gdir_hef, model=model);"
   ]
  },
  {
   "cell_type": "markdown",
   "metadata": {},
   "source": [
    "A cross-section along the glacier can be visualized with the following function:"
   ]
  },
  {
   "cell_type": "code",
   "execution_count": null,
   "metadata": {
    "collapsed": false
   },
   "outputs": [],
   "source": [
    "graphics.plot_modeloutput_section(gdir, model=model);"
   ]
  },
  {
   "cell_type": "markdown",
   "metadata": {},
   "source": [
    "### Mass balance"
   ]
  },
  {
   "cell_type": "markdown",
   "metadata": {},
   "source": [
    "To run the model, one has to define a mass-balance function. They are implemented in the [massbalance](http://oggm.readthedocs.org/en/latest/api.html#mass-balance) module:"
   ]
  },
  {
   "cell_type": "code",
   "execution_count": null,
   "metadata": {
    "collapsed": false
   },
   "outputs": [],
   "source": [
    "from oggm.core.models.massbalance import TodayMassBalanceModel, TstarMassBalanceModel\n",
    "from oggm.core.models.massbalance import BackwardsMassBalanceModel, PastMassBalanceModel"
   ]
  },
  {
   "cell_type": "markdown",
   "metadata": {},
   "source": [
    "For example, let's have a look at the mass-balance profile of HEF for the last 30 years, at the period $t^*$, and for the year 2003:"
   ]
  },
  {
   "cell_type": "code",
   "execution_count": null,
   "metadata": {
    "collapsed": true
   },
   "outputs": [],
   "source": [
    "today_model = TodayMassBalanceModel(gdir_hef)\n",
    "tstar_model = TstarMassBalanceModel(gdir_hef)\n",
    "hist_model = PastMassBalanceModel(gdir_hef)"
   ]
  },
  {
   "cell_type": "code",
   "execution_count": null,
   "metadata": {
    "collapsed": false
   },
   "outputs": [],
   "source": [
    "# Altitude of the main flowline:\n",
    "z = model.fls[-1].surface_h\n",
    "# Get the mass balance and convert to m per year\n",
    "mb_today = today_model.get_mb(z) * cfg.SEC_IN_YEAR * cfg.RHO / 1000.\n",
    "mb_tstar = tstar_model.get_mb(z) * cfg.SEC_IN_YEAR * cfg.RHO / 1000.\n",
    "mb_2003 = hist_model.get_annual_mb(z, 2003) * cfg.SEC_IN_YEAR * cfg.RHO / 1000.\n",
    "# Plot\n",
    "plt.figure(figsize=(8, 5))\n",
    "plt.plot(mb_today, z, '*', label='Today');\n",
    "plt.plot(mb_tstar, z, '*', label='t*');\n",
    "plt.plot(mb_2003, z, '*', label='2003');\n",
    "plt.ylabel('Altitude (m)');\n",
    "plt.xlabel('Annual MB (m we)');\n",
    "plt.legend(loc='best');"
   ]
  },
  {
   "cell_type": "markdown",
   "metadata": {},
   "source": [
    "### Define a model run"
   ]
  },
  {
   "cell_type": "markdown",
   "metadata": {},
   "source": [
    "For a complete run you need to specify an initial state, a mass-balance model and the ice-flow parameter(s):"
   ]
  },
  {
   "cell_type": "code",
   "execution_count": null,
   "metadata": {
    "collapsed": false
   },
   "outputs": [],
   "source": [
    "fls = gdir_hef.read_pickle('model_flowlines')\n",
    "commit_model = FluxBasedModel(fls, mb_model=today_model, glen_a=cfg.A)"
   ]
  },
  {
   "cell_type": "markdown",
   "metadata": {},
   "source": [
    "It is now possible to run the model for any period of time:"
   ]
  },
  {
   "cell_type": "code",
   "execution_count": null,
   "metadata": {
    "collapsed": false
   },
   "outputs": [],
   "source": [
    "# Run for 50 years\n",
    "commit_model.run_until(50)\n",
    "graphics.plot_modeloutput_section(gdir_hef, model=commit_model)"
   ]
  },
  {
   "cell_type": "markdown",
   "metadata": {},
   "source": [
    "Or until an equilibrium is reached (in this case it is possible because the mass-balance is constant in time):"
   ]
  },
  {
   "cell_type": "code",
   "execution_count": null,
   "metadata": {
    "collapsed": false
   },
   "outputs": [],
   "source": [
    "commit_model.run_until_equilibrium()\n",
    "graphics.plot_modeloutput_section(gdir_hef, model=commit_model)"
   ]
  },
  {
   "cell_type": "code",
   "execution_count": null,
   "metadata": {
    "collapsed": false
   },
   "outputs": [],
   "source": [
    "graphics.plot_modeloutput_map(gdir_hef, model=commit_model)"
   ]
  },
  {
   "cell_type": "markdown",
   "metadata": {},
   "source": [
    "This is a very good example of how surprising glaciers can be. Let's redo this run and store the glacier evolution with time:"
   ]
  },
  {
   "cell_type": "code",
   "execution_count": null,
   "metadata": {
    "collapsed": false
   },
   "outputs": [],
   "source": [
    "# Reinitialize the model (important!)\n",
    "fls = gdir_hef.read_pickle('model_flowlines')\n",
    "commit_model = FluxBasedModel(fls, mb_model=today_model, glen_a=cfg.A)\n",
    "# Run and store\n",
    "years = np.arange(200) * 2\n",
    "volume = np.array([])\n",
    "for y in years:\n",
    "    commit_model.run_until(y)\n",
    "    volume = np.append(volume, commit_model.volume_m3)\n",
    "# Plot\n",
    "plt.figure(figsize=(8, 5))\n",
    "plt.plot(years, volume)\n",
    "plt.ylabel('Volume (m3)');\n",
    "plt.xlabel('Time (years)');"
   ]
  },
  {
   "cell_type": "markdown",
   "metadata": {},
   "source": [
    "How important is the A parameter for the equilibrium volume?"
   ]
  },
  {
   "cell_type": "code",
   "execution_count": null,
   "metadata": {
    "collapsed": false
   },
   "outputs": [],
   "source": [
    "# Reinitialize the model (important!)\n",
    "fls = gdir_hef.read_pickle('model_flowlines')\n",
    "commit_model_08 = FluxBasedModel(fls, mb_model=today_model, glen_a=cfg.A*0.8)\n",
    "fls = gdir_hef.read_pickle('model_flowlines')\n",
    "commit_model_10 = FluxBasedModel(fls, mb_model=today_model, glen_a=cfg.A)\n",
    "fls = gdir_hef.read_pickle('model_flowlines')\n",
    "commit_model_12 = FluxBasedModel(fls, mb_model=today_model, glen_a=cfg.A*1.2)\n",
    "# Run and store\n",
    "years = np.arange(200) * 2\n",
    "volume_08 = np.array([])\n",
    "volume_10 = np.array([])\n",
    "volume_12 = np.array([])\n",
    "for y in years:\n",
    "    commit_model_08.run_until(y)\n",
    "    volume_08 = np.append(volume_08, commit_model_08.volume_m3)\n",
    "    commit_model_10.run_until(y)\n",
    "    volume_10 = np.append(volume_10, commit_model_10.volume_m3)\n",
    "    commit_model_12.run_until(y)\n",
    "    volume_12 = np.append(volume_12, commit_model_12.volume_m3)\n",
    "# Plot\n",
    "plt.figure(figsize=(8, 5))\n",
    "plt.plot(years, volume_08, label='0.8 A')\n",
    "plt.plot(years, volume_10, label='1.0 A')\n",
    "plt.plot(years, volume_12, label='1.2 A')\n",
    "plt.ylabel('Volume (m3)');\n",
    "plt.xlabel('Time (years)');\n",
    "plt.legend(loc='best');"
   ]
  },
  {
   "cell_type": "markdown",
   "metadata": {},
   "source": [
    "### Historical runs "
   ]
  },
  {
   "cell_type": "markdown",
   "metadata": {},
   "source": [
    "Now this is where it becomes interesting. Let's define a run with \"real\" mass-balance time-series. Let's assume that the 1850 glacier geometry is the same as today's, and run the model over 153 years:"
   ]
  },
  {
   "cell_type": "code",
   "execution_count": null,
   "metadata": {
    "collapsed": false
   },
   "outputs": [],
   "source": [
    "# Reinitialize the model (important!)\n",
    "fls = gdir_hef.read_pickle('model_flowlines')\n",
    "# Same as before with another mass-balance model and a real starting year y0:\n",
    "model = FluxBasedModel(fls, mb_model=hist_model, glen_a=cfg.A, y0=1850)  \n",
    "# Run and store\n",
    "years = np.arange(153) + 1851\n",
    "volume = np.array([])\n",
    "for y in years:\n",
    "    model.run_until(y)\n",
    "    volume = np.append(volume, model.volume_m3)\n",
    "# Plot\n",
    "plt.figure(figsize=(8, 5))\n",
    "plt.plot(years, volume)\n",
    "plt.ylabel('Volume (m3)');\n",
    "plt.xlabel('Time (years)');"
   ]
  },
  {
   "cell_type": "markdown",
   "metadata": {},
   "source": [
    "Today's HEF would probably be too small to be in equilibrium with the climate during most of the simulation period. The time it needs to re-adjust depends on the glacier characteristics as well as A. We need a way to make our glacier grow first, so that it can shrink as we expect it to do."
   ]
  },
  {
   "cell_type": "code",
   "execution_count": null,
   "metadata": {
    "collapsed": false
   },
   "outputs": [],
   "source": [
    "# Reinitialize the model (important!)\n",
    "fls = gdir_hef.read_pickle('model_flowlines')\n",
    "# Grow model: current climate, but we add a cold bias\n",
    "# the bias is in unit of tenths of Kelvin colder (strange unit I know, I have to change this)\n",
    "mb_model = BackwardsMassBalanceModel(gdir_hef, bias=120)\n",
    "grow_model = FluxBasedModel(fls, y0=0, mb_model=mb_model, glen_a=cfg.A)\n",
    "# run until equilibrium\n",
    "grow_model.run_until_equilibrium()\n",
    "# plot\n",
    "graphics.plot_modeloutput_map(gdir_hef, model=grow_model)"
   ]
  },
  {
   "cell_type": "markdown",
   "metadata": {},
   "source": [
    "Ok. Now reinitialize the historical run with this new input and see:"
   ]
  },
  {
   "cell_type": "code",
   "execution_count": null,
   "metadata": {
    "collapsed": false
   },
   "outputs": [],
   "source": [
    "# Reinitialize the model with the new geom\n",
    "fls = grow_model.fls\n",
    "model = FluxBasedModel(fls, mb_model=hist_model, glen_a=cfg.A, y0=1850)  \n",
    "# Run and store\n",
    "years = np.arange(153) + 1851\n",
    "volume = np.array([])\n",
    "for y in years:\n",
    "    model.run_until(y)\n",
    "    volume = np.append(volume, model.volume_m3)\n",
    "# Plot\n",
    "plt.figure(figsize=(8, 5))\n",
    "plt.plot(years, volume)\n",
    "plt.ylabel('Volume (m3)');\n",
    "plt.xlabel('Time (years)');"
   ]
  },
  {
   "cell_type": "markdown",
   "metadata": {},
   "source": [
    "Looks better! But still not perfect:"
   ]
  },
  {
   "cell_type": "code",
   "execution_count": null,
   "metadata": {
    "collapsed": false
   },
   "outputs": [],
   "source": [
    "graphics.plot_modeloutput_map(gdir_hef, model=model)"
   ]
  },
  {
   "cell_type": "markdown",
   "metadata": {},
   "source": [
    "There's still a lot to do!"
   ]
  },
  {
   "cell_type": "code",
   "execution_count": null,
   "metadata": {
    "collapsed": true
   },
   "outputs": [],
   "source": []
  }
 ],
 "metadata": {
  "kernelspec": {
   "display_name": "Python 3",
   "language": "python",
   "name": "python3"
  },
  "language_info": {
   "codemirror_mode": {
    "name": "ipython",
    "version": 3
   },
   "file_extension": ".py",
   "mimetype": "text/x-python",
   "name": "python",
   "nbconvert_exporter": "python",
   "pygments_lexer": "ipython3",
   "version": "3.5.2"
  }
 },
 "nbformat": 4,
 "nbformat_minor": 0
}
