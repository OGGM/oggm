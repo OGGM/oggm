{
 "cells": [
  {
   "cell_type": "markdown",
   "metadata": {},
   "source": [
    "<img src=\"data:image/png;base64,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\" align=\"left\">"
   ]
  },
  {
   "cell_type": "markdown",
   "metadata": {},
   "source": [
    "# Getting started with OGGM: a real case study, step by step"
   ]
  },
  {
   "cell_type": "markdown",
   "metadata": {},
   "source": [
    "The OGGM workflow is best explained with an example. In the following, we will show how to apply the standard [OGGM workflow](http://docs.oggm.org/en/stable/introduction.html) to a list of glaciers."
   ]
  },
  {
   "cell_type": "markdown",
   "metadata": {},
   "source": [
    "### Input data folders"
   ]
  },
  {
   "cell_type": "markdown",
   "metadata": {},
   "source": [
    "Before you start, make sure that you have set-up the [input data configuration file](https://docs.oggm.org/en/stable/input-data.html) at your wish.\n",
    "\n",
    "In the course of this tutorial, we will download some of the data needed for a run, so make sure you have a decent internet connection. If you prefer not to download anything, refer to the other getting started guide: without data download (in construction)."
   ]
  },
  {
   "cell_type": "markdown",
   "metadata": {},
   "source": [
    "### cfg.initialize() and cfg.PARAMS "
   ]
  },
  {
   "cell_type": "markdown",
   "metadata": {},
   "source": [
    "An OGGM simulation script will always start with the following commands:"
   ]
  },
  {
   "cell_type": "code",
   "execution_count": 1,
   "metadata": {},
   "outputs": [
    {
     "name": "stderr",
     "output_type": "stream",
     "text": [
      "2018-10-28 17:38:46: oggm.cfg: Using configuration file: /home/mowglie/Documents/git/oggm-official/oggm/params.cfg\n"
     ]
    }
   ],
   "source": [
    "from oggm import cfg\n",
    "cfg.initialize()"
   ]
  },
  {
   "cell_type": "markdown",
   "metadata": {},
   "source": [
    "A call to [cfg.initialize()](https://docs.oggm.org/en/latest/generated/oggm.cfg.initialize.html) will read the default parameter file (or any user-provided file) and make them available to all other OGGM tools via the `cfg.PARAMS` dictionary. Here are some example of these parameters:"
   ]
  },
  {
   "cell_type": "code",
   "execution_count": 2,
   "metadata": {},
   "outputs": [
    {
     "data": {
      "text/plain": [
       "(2.5, 900.0, False)"
      ]
     },
     "execution_count": 2,
     "metadata": {},
     "output_type": "execute_result"
    }
   ],
   "source": [
    "cfg.PARAMS['prcp_scaling_factor'], cfg.PARAMS['ice_density'], cfg.PARAMS['continue_on_error']"
   ]
  },
  {
   "cell_type": "markdown",
   "metadata": {},
   "source": [
    "See [here](https://github.com/OGGM/oggm/blob/master/oggm/params.cfg) for the default parameter file and a description of their role and default value."
   ]
  },
  {
   "cell_type": "markdown",
   "metadata": {},
   "source": [
    "### Download the glacier outlines "
   ]
  },
  {
   "cell_type": "markdown",
   "metadata": {},
   "source": [
    "The glacier outlines are obtained from the [Randolph Glacier Inventory](https://www.glims.org/RGI/), the reference dataset for global and regional applications. The current version is V6, and OGGM ships with a slightly modified version which we called `61`. To download this version ([and related files), simply do:"
   ]
  },
  {
   "cell_type": "code",
   "execution_count": 14,
   "metadata": {},
   "outputs": [
    {
     "data": {
      "text/plain": [
       "'/home/mowglie/disk/OGGM_INPUT/rgi/RGIV61'"
      ]
     },
     "execution_count": 14,
     "metadata": {},
     "output_type": "execute_result"
    }
   ],
   "source": [
    "from oggm import utils\n",
    "utils.get_rgi_dir()  # this might take a couple of minutes!"
   ]
  },
  {
   "cell_type": "markdown",
   "metadata": {},
   "source": [
    "The folder above should now contain the glacier outlines in the [shapefile format](https://en.wikipedia.org/wiki/Shapefile), a format widely used in GIS applications. You can open the files with the tool of your choice ([geopandas](http://geopandas.org/) is a good choice in python), but OGGM comes with [handy tools](https://docs.oggm.org/en/latest/api.html#input-output) to read them for you. Here we use a convenience function to read one outline only:"
   ]
  },
  {
   "cell_type": "code",
   "execution_count": 4,
   "metadata": {},
   "outputs": [],
   "source": [
    "rgi_df = utils.get_rgi_glacier_entities(['RGI60-11.01328'])"
   ]
  },
  {
   "cell_type": "markdown",
   "metadata": {},
   "source": [
    "This gives us a data frame containing the glacier outlines and some useful attributes:"
   ]
  },
  {
   "cell_type": "code",
   "execution_count": 7,
   "metadata": {},
   "outputs": [
    {
     "data": {
      "text/html": [
       "<div>\n",
       "<style scoped>\n",
       "    .dataframe tbody tr th:only-of-type {\n",
       "        vertical-align: middle;\n",
       "    }\n",
       "\n",
       "    .dataframe tbody tr th {\n",
       "        vertical-align: top;\n",
       "    }\n",
       "\n",
       "    .dataframe thead th {\n",
       "        text-align: right;\n",
       "    }\n",
       "</style>\n",
       "<table border=\"1\" class=\"dataframe\">\n",
       "  <thead>\n",
       "    <tr style=\"text-align: right;\">\n",
       "      <th></th>\n",
       "      <th>RGIId</th>\n",
       "      <th>GLIMSId</th>\n",
       "      <th>BgnDate</th>\n",
       "      <th>EndDate</th>\n",
       "      <th>CenLon</th>\n",
       "      <th>CenLat</th>\n",
       "      <th>O1Region</th>\n",
       "      <th>O2Region</th>\n",
       "      <th>Area</th>\n",
       "      <th>Zmin</th>\n",
       "      <th>...</th>\n",
       "      <th>Aspect</th>\n",
       "      <th>Lmax</th>\n",
       "      <th>Status</th>\n",
       "      <th>Connect</th>\n",
       "      <th>Form</th>\n",
       "      <th>TermType</th>\n",
       "      <th>Surging</th>\n",
       "      <th>Linkages</th>\n",
       "      <th>Name</th>\n",
       "      <th>geometry</th>\n",
       "    </tr>\n",
       "  </thead>\n",
       "  <tbody>\n",
       "    <tr>\n",
       "      <th>1327</th>\n",
       "      <td>RGI60-11.01328</td>\n",
       "      <td>G008219E46564N</td>\n",
       "      <td>20030799</td>\n",
       "      <td>20030999</td>\n",
       "      <td>8.2193</td>\n",
       "      <td>46.5642</td>\n",
       "      <td>11</td>\n",
       "      <td>1</td>\n",
       "      <td>23.825</td>\n",
       "      <td>1944</td>\n",
       "      <td>...</td>\n",
       "      <td>84</td>\n",
       "      <td>12635</td>\n",
       "      <td>0</td>\n",
       "      <td>0</td>\n",
       "      <td>0</td>\n",
       "      <td>0</td>\n",
       "      <td>9</td>\n",
       "      <td>9</td>\n",
       "      <td>None</td>\n",
       "      <td>POLYGON ((8.171178630000043 46.53165119900007,...</td>\n",
       "    </tr>\n",
       "  </tbody>\n",
       "</table>\n",
       "<p>1 rows × 23 columns</p>\n",
       "</div>"
      ],
      "text/plain": [
       "               RGIId         GLIMSId   BgnDate   EndDate  CenLon   CenLat  \\\n",
       "1327  RGI60-11.01328  G008219E46564N  20030799  20030999  8.2193  46.5642   \n",
       "\n",
       "     O1Region O2Region    Area  Zmin  \\\n",
       "1327       11        1  23.825  1944   \n",
       "\n",
       "                            ...                          Aspect   Lmax  \\\n",
       "1327                        ...                              84  12635   \n",
       "\n",
       "      Status  Connect  Form  TermType  Surging  Linkages  Name  \\\n",
       "1327       0        0     0         0        9         9  None   \n",
       "\n",
       "                                               geometry  \n",
       "1327  POLYGON ((8.171178630000043 46.53165119900007,...  \n",
       "\n",
       "[1 rows x 23 columns]"
      ]
     },
     "execution_count": 7,
     "metadata": {},
     "output_type": "execute_result"
    }
   ],
   "source": [
    "rgi_df"
   ]
  },
  {
   "cell_type": "markdown",
   "metadata": {},
   "source": [
    "You don't need to bother much about the content of this file, since it is all OGGM needs to continue. `RGI60-11.01328` is the identifier of the [Unteraar Glacier](https://en.wikipedia.org/wiki/Unteraargletscher) in the Swiss Alps."
   ]
  },
  {
   "cell_type": "markdown",
   "metadata": {},
   "source": [
    "Before we continue, we need to tell OGGM one last thing"
   ]
  },
  {
   "cell_type": "code",
   "execution_count": null,
   "metadata": {},
   "outputs": [],
   "source": []
  },
  {
   "cell_type": "code",
   "execution_count": 12,
   "metadata": {},
   "outputs": [],
   "source": [
    "ddd = utils.get_rgi_intersects_region_file('11')"
   ]
  },
  {
   "cell_type": "code",
   "execution_count": 11,
   "metadata": {},
   "outputs": [
    {
     "data": {
      "text/plain": [
       "'/home/mowglie/disk/OGGM_INPUT/rgi/RGI_V61_Intersects/11_rgi61_CentralEurope/intersects_11_rgi61_CentralEurope.shp'"
      ]
     },
     "execution_count": 11,
     "metadata": {},
     "output_type": "execute_result"
    }
   ],
   "source": [
    "gpd.ge ddd"
   ]
  },
  {
   "cell_type": "code",
   "execution_count": 9,
   "metadata": {},
   "outputs": [
    {
     "data": {
      "image/png": "[encoded data removed]",
      "text/plain": [
       "<Figure size 432x288 with 1 Axes>"
      ]
     },
     "metadata": {},
     "output_type": "display_data"
    }
   ],
   "source": [
    "rgi_df.plot();"
   ]
  },
  {
   "cell_type": "code",
   "execution_count": null,
   "metadata": {},
   "outputs": [],
   "source": []
  },
  {
   "cell_type": "markdown",
   "metadata": {},
   "source": [
    "In the `test-workflow` directory you can have a look at the various files we will need. OGGM also needs them for testing, so they are automatically available to everybody with a simple mechanism:"
   ]
  },
  {
   "cell_type": "code",
   "execution_count": null,
   "metadata": {},
   "outputs": [],
   "source": [
    "\n",
    "from oggm import utils\n",
    "srtm_f = utils.get_demo_file('srtm_oetztal.tif')\n",
    "rgi_f = utils.get_demo_file('rgi_oetztal.shp')\n",
    "print(srtm_f)"
   ]
  },
  {
   "cell_type": "markdown",
   "metadata": {},
   "source": [
    "The very first time that you make a call to `get_demo_file()`, OGGM will create a hidden `.oggm` directory in your home folder$^*$ and download the demo files in it.\n",
    "\n",
    "<sub>*: this path might vary depending on your platform, see python's [expanduser](https://docs.python.org/3.5/library/os.path.html#os.path.expanduser)</sub>"
   ]
  },
  {
   "cell_type": "markdown",
   "metadata": {},
   "source": [
    "### Digital elevation model (DEM) and glacier outlines"
   ]
  },
  {
   "cell_type": "markdown",
   "metadata": {},
   "source": [
    "The data directory contains a subset of the [RGI](https://www.glims.org/RGI/) (V5) for the Ötztal:"
   ]
  },
  {
   "cell_type": "code",
   "execution_count": null,
   "metadata": {},
   "outputs": [],
   "source": [
    "import geopandas as gpd\n",
    "rgi_shp = gpd.read_file(rgi_f).set_index('RGIId')"
   ]
  },
  {
   "cell_type": "markdown",
   "metadata": {},
   "source": [
    "We'll have a look at it, but first we will need to make some imports and set some defaults:"
   ]
  },
  {
   "cell_type": "code",
   "execution_count": null,
   "metadata": {},
   "outputs": [],
   "source": [
    "# Plot defaults\n",
    "%matplotlib inline\n",
    "import matplotlib.pyplot as plt\n",
    "# Packages\n",
    "import os\n",
    "import numpy as np\n",
    "import xarray as xr\n",
    "import shapely.geometry as shpg\n",
    "plt.rcParams['figure.figsize'] = (8, 8)  # Default plot size"
   ]
  },
  {
   "cell_type": "markdown",
   "metadata": {},
   "source": [
    "Plot the glaciers of the Ötztal case study:"
   ]
  },
  {
   "cell_type": "code",
   "execution_count": null,
   "metadata": {},
   "outputs": [],
   "source": [
    "rgi_shp.plot(edgecolor='black')\n",
    "plt.ylabel('latitude')\n",
    "plt.xlabel('longitude');"
   ]
  },
  {
   "cell_type": "markdown",
   "metadata": {},
   "source": [
    "### Calibration / validation data"
   ]
  },
  {
   "cell_type": "markdown",
   "metadata": {},
   "source": [
    "These 20 glaciers were selected because they have either mass-balance data (WGMS) or total volume information (GlaThiDa). These data are required for calibration/validation and are available automatically in OGGM."
   ]
  },
  {
   "cell_type": "markdown",
   "metadata": {},
   "source": [
    "### Climate data"
   ]
  },
  {
   "cell_type": "markdown",
   "metadata": {},
   "source": [
    "For this test case we use [HISTALP](https://docs.oggm.org/en/latest/mass-balance.html?highlight=histalp#histalp) data (which goes back further in time than CRU), stored in the NetCDF format. The resolution of HISTALP (5 minutes of arc) is relatively high, but some kind of downscaling will be necessary to compute the mass-balance at the glacier scale.\n",
    "\n",
    "We can plot a timeseries of the data, for example for the grid point (3, 3):"
   ]
  },
  {
   "cell_type": "code",
   "execution_count": null,
   "metadata": {},
   "outputs": [],
   "source": [
    "fig = plt.figure(figsize=(9, 3))\n",
    "with xr.open_dataset(utils.get_demo_file('HISTALP_oetztal.nc')) as ds:\n",
    "    ds.temp[:, 3, 3].resample(time=\"AS\").mean().plot()\n",
    "    plt.title('HISTALP annual temperature (°C)');"
   ]
  },
  {
   "cell_type": "markdown",
   "metadata": {},
   "source": [
    "## Setting up an OGGM run"
   ]
  },
  {
   "cell_type": "markdown",
   "metadata": {},
   "source": [
    "OGGM parameters are gathered in a configuration file. The [default file](https://github.com/OGGM/oggm/blob/master/oggm/params.cfg) is shipped with the code. It is used to initialize the configuration module:"
   ]
  },
  {
   "cell_type": "code",
   "execution_count": null,
   "metadata": {},
   "outputs": [],
   "source": [
    "from oggm import cfg\n",
    "from oggm import workflow\n",
    "cfg.initialize()  # read the default parameter file"
   ]
  },
  {
   "cell_type": "markdown",
   "metadata": {},
   "source": [
    "For example, the `cfg` module has a global variable `PATHS` (a dictionary) storing the file paths to the data and working directories:"
   ]
  },
  {
   "cell_type": "code",
   "execution_count": null,
   "metadata": {},
   "outputs": [],
   "source": [
    "cfg.PATHS"
   ]
  },
  {
   "cell_type": "markdown",
   "metadata": {},
   "source": [
    "The path to the working directory and the input data files are missing. Let's set them so that the OGGM modules know where to look for them (the default would be to download them automatically, which we would like to avoid for this example):"
   ]
  },
  {
   "cell_type": "code",
   "execution_count": null,
   "metadata": {},
   "outputs": [],
   "source": [
    "cfg.PATHS['working_dir'] = os.path.expanduser('~/OGGM_Getting_Started_wd')"
   ]
  },
  {
   "cell_type": "code",
   "execution_count": null,
   "metadata": {},
   "outputs": [],
   "source": [
    "cfg.PATHS['dem_file'] = utils.get_demo_file('srtm_oetztal.tif')\n",
    "cfg.PATHS['climate_file'] = utils.get_demo_file('HISTALP_oetztal.nc')\n",
    "cfg.PARAMS['baseline_climate'] = 'CUSTOM'\n",
    "cfg.set_intersects_db(utils.get_demo_file('rgi_intersect_oetztal.shp'))"
   ]
  },
  {
   "cell_type": "markdown",
   "metadata": {},
   "source": [
    "We will set the \"border\" option to a larger value, since we will do some dynamical simulations (\"border\" decides on the number of DEM grid points we'd like to add to each side of the glacier for the local map: the larger the glacier will grow, the larger the border should be):"
   ]
  },
  {
   "cell_type": "code",
   "execution_count": null,
   "metadata": {},
   "outputs": [],
   "source": [
    "cfg.PARAMS['border'] = 80"
   ]
  },
  {
   "cell_type": "markdown",
   "metadata": {},
   "source": [
    "We keep the other parameters to their default values, for example the precipitation scaling factor:"
   ]
  },
  {
   "cell_type": "code",
   "execution_count": null,
   "metadata": {},
   "outputs": [],
   "source": [
    "cfg.PARAMS['prcp_scaling_factor']"
   ]
  },
  {
   "cell_type": "markdown",
   "metadata": {},
   "source": [
    "## Glacier working directories"
   ]
  },
  {
   "cell_type": "markdown",
   "metadata": {},
   "source": [
    "An OGGM \"run\" is made of several successive tasks to be applied on each glacier. Because these tasks can be computationally expensive they are split in smaller tasks, each of them storing their results in a [glacier directory](http://docs.oggm.org/en/latest/glacierdir.html).\n",
    "\n",
    "The very first task of an OGGM run is always `init_glacier_regions`:"
   ]
  },
  {
   "cell_type": "code",
   "execution_count": null,
   "metadata": {},
   "outputs": [],
   "source": [
    "# Read in the RGI file\n",
    "import geopandas as gpd\n",
    "rgi_file = utils.get_demo_file('rgi_oetztal.shp')\n",
    "rgidf = gpd.read_file(rgi_file)\n",
    "# Initialise directories\n",
    "# reset=True will ask for confirmation if the directories are already present: \n",
    "# this is very useful if you don't want to loose hours of computations because of a command gone wrong\n",
    "gdirs = oggm.workflow.init_glacier_regions(rgidf, reset=True, force=True)"
   ]
  },
  {
   "cell_type": "markdown",
   "metadata": {},
   "source": [
    "Note that if I run `init_glacier_regions` a second time without `reset=True`, nothing special happens. The directories will not be overwritten, just \"re-opened\":"
   ]
  },
  {
   "cell_type": "code",
   "execution_count": null,
   "metadata": {},
   "outputs": [],
   "source": [
    "gdirs = workflow.init_glacier_regions(rgidf)"
   ]
  },
  {
   "cell_type": "markdown",
   "metadata": {},
   "source": [
    "Now what is the variable `gdirs`? It is a list of 20 [GlacierDirectory](http://docs.oggm.org/en/latest/generated/oggm.GlacierDirectory.html#oggm.GlacierDirectory) objects. They are here to help us to handle data input/output and to store several glacier properties. Here are some examples: "
   ]
  },
  {
   "cell_type": "code",
   "execution_count": null,
   "metadata": {},
   "outputs": [],
   "source": [
    "gdir = gdirs[13]\n",
    "gdir"
   ]
  },
  {
   "cell_type": "markdown",
   "metadata": {},
   "source": [
    "`gdir` provides a `get_filepath` function which gives access to the data files present in the directory:"
   ]
  },
  {
   "cell_type": "code",
   "execution_count": null,
   "metadata": {},
   "outputs": [],
   "source": [
    "gdir.get_filepath('dem')"
   ]
  },
  {
   "cell_type": "markdown",
   "metadata": {},
   "source": [
    "`dem.tif` is a local digital elevation map with a spatial resolution chosen by OGGM as a function of the glacier size. These [GlacierDirectory](http://docs.oggm.org/en/latest/generated/oggm.GlacierDirectory.html#oggm.GlacierDirectory) objects are going to be the input of almost every OGGM task.\n",
    "\n",
    "The advantage of this data model is that it can obtain several input data by just using one single argument. This data is obtained from the disk. For example glacier location and glacier outlines are needed for the next plot and are called by the single argument 'gdir'."
   ]
  },
  {
   "cell_type": "code",
   "execution_count": null,
   "metadata": {},
   "outputs": [],
   "source": [
    "from oggm import graphics\n",
    "graphics.plot_googlemap(gdir)"
   ]
  },
  {
   "cell_type": "markdown",
   "metadata": {},
   "source": [
    "## OGGM tasks"
   ]
  },
  {
   "cell_type": "markdown",
   "metadata": {},
   "source": [
    "The workflow of OGGM is oriented around the concept of \"[tasks](http://docs.oggm.org/en/latest/api.html#entity-tasks)\". There are two different types:\n",
    "\n",
    "**Entity Task**:\n",
    "  Standalone operations to be realized on one single glacier entity,\n",
    "  independently from the others. The majority of OGGM\n",
    "  tasks are entity tasks. They are parallelisable.\n",
    "\n",
    "**Global Task**:\n",
    "  Tasks which require to work on several glacier entities\n",
    "  at the same time. Model parameter calibration or interpolation of degree day factors belong to\n",
    "  this type of task. They are not parallelisable.\n",
    "  \n",
    "OGGM implements a simple mechanism to run a specific task on a list of `GlacierDir` objects (here, the function `glacier_masks()` from the module `oggm.prepro.gis`):"
   ]
  },
  {
   "cell_type": "code",
   "execution_count": null,
   "metadata": {},
   "outputs": [],
   "source": [
    "from oggm import tasks"
   ]
  },
  {
   "cell_type": "code",
   "execution_count": null,
   "metadata": {},
   "outputs": [],
   "source": [
    "# run the glacier_masks task on all gdirs\n",
    "workflow.execute_entity_task(tasks.glacier_masks, gdirs);"
   ]
  },
  {
   "cell_type": "markdown",
   "metadata": {},
   "source": [
    "We just computed gridded boolean [masks](http://docs.oggm.org/en/latest/generated/oggm.tasks.glacier_masks.html#oggm.tasks.glacier_masks) out of the RGI outlines.\n",
    "\n",
    "It is also possible to apply several tasks sequentially:"
   ]
  },
  {
   "cell_type": "code",
   "execution_count": null,
   "metadata": {},
   "outputs": [],
   "source": [
    "list_talks = [\n",
    "         tasks.compute_centerlines,\n",
    "         tasks.initialize_flowlines,\n",
    "         tasks.catchment_area,\n",
    "         tasks.catchment_width_geom,\n",
    "         tasks.catchment_width_correction,\n",
    "         tasks.compute_downstream_line,\n",
    "         tasks.compute_downstream_bedshape\n",
    "         ]\n",
    "for task in list_talks:\n",
    "    workflow.execute_entity_task(task, gdirs)"
   ]
  },
  {
   "cell_type": "markdown",
   "metadata": {},
   "source": [
    "The function `execute_task` can run a task on different glaciers at the same time, if the `use_multiprocessing` option is set to `True` in the configuration file. "
   ]
  },
  {
   "cell_type": "markdown",
   "metadata": {},
   "source": [
    "With all these tasks we just computed the glacier flowlines (bold line) and their widths (thin lines). See the [docu](http://docs.oggm.org/en/latest/flowlines.html#flowline-widths) for more info:"
   ]
  },
  {
   "cell_type": "code",
   "execution_count": null,
   "metadata": {},
   "outputs": [],
   "source": [
    "graphics.plot_catchment_width(gdir, corrected=True)"
   ]
  },
  {
   "cell_type": "markdown",
   "metadata": {},
   "source": [
    "### Global tasks, climate tasks"
   ]
  },
  {
   "cell_type": "markdown",
   "metadata": {},
   "source": [
    "We will go into more detail about tasks in the [documentation about mass balance](https://docs.oggm.org/en/latest/mass-balance.html). For now, we will use the helper function:"
   ]
  },
  {
   "cell_type": "code",
   "execution_count": null,
   "metadata": {},
   "outputs": [],
   "source": [
    "# We calibrate tstars ourselves\n",
    "cfg.PARAMS['run_mb_calibration'] = True\n",
    "workflow.climate_tasks(gdirs)"
   ]
  },
  {
   "cell_type": "markdown",
   "metadata": {},
   "source": [
    "We just read the climate data, \"downscaled\" it to each glacier, computed possible $\\mu^*$ for the reference glaciers, picked the best one, interpolated the corresponding $t^*$ to glaciers without mass-balance observations, computed the mass-balance sensitivity $\\mu$ for all glaciers and finally computed the mass-balance at equilibrium (the \"apparent mb\" in Farinotti et al., 2009)."
   ]
  },
  {
   "cell_type": "markdown",
   "metadata": {},
   "source": [
    "## Computing the ice thickness (Inversion)"
   ]
  },
  {
   "cell_type": "markdown",
   "metadata": {
    "collapsed": true
   },
   "source": [
    "This is where things become a bit more complicated. The inversion is already fully automated in OGGM, but there is not yet a generally accepted way to calibrate it. For this tutorial we will try to explain in more detail what is happening."
   ]
  },
  {
   "cell_type": "markdown",
   "metadata": {},
   "source": [
    "### Default parameters"
   ]
  },
  {
   "cell_type": "markdown",
   "metadata": {},
   "source": [
    "Let's start with the default, which is to use the standard ice creep parameter A and no sliding:"
   ]
  },
  {
   "cell_type": "code",
   "execution_count": null,
   "metadata": {},
   "outputs": [],
   "source": [
    "list_talks = [\n",
    "         tasks.prepare_for_inversion,  # This is a preprocessing task\n",
    "         tasks.mass_conservation_inversion,  # This does the actual job\n",
    "         tasks.filter_inversion_output  # This smoothes the thicknesses at the tongue a little\n",
    "         ]\n",
    "for task in list_talks:\n",
    "    workflow.execute_entity_task(task, gdirs)"
   ]
  },
  {
   "cell_type": "markdown",
   "metadata": {},
   "source": [
    "Let's see what we have:"
   ]
  },
  {
   "cell_type": "code",
   "execution_count": null,
   "metadata": {},
   "outputs": [],
   "source": [
    "# Select HEF out of all glaciers\n",
    "gdir_hef = [gd for gd in gdirs if (gd.rgi_id == 'RGI50-11.00897')][0]\n",
    "graphics.plot_inversion(gdir_hef)"
   ]
  },
  {
   "cell_type": "markdown",
   "metadata": {},
   "source": [
    "The computed volume of Hintereisferner is 0.77 km$^{3}$ (for 2003, which is the date for the outlines). According to [Fisher et al., 2013](https://www.cambridge.org/core/services/aop-cambridge-core/content/view/27F001E11BA6AC163A3D31F5C1448853/S0260305500259752a.pdf/groundpenetrating_radar_measurements_of_64_austrian_glaciers_between_1995_and_2010.pdf), this volume should be 0.573 km$^{3}$ for 2001, which is a bit less then computed for 2003. This is not too surprising, since we use a default setting and no basal sliding, all this is likely to overestimate the thickness."
   ]
  },
  {
   "cell_type": "markdown",
   "metadata": {},
   "source": [
    "### Inversion model sensitivity "
   ]
  },
  {
   "cell_type": "markdown",
   "metadata": {},
   "source": [
    "How sensitive is the inversion to changes in the A parameter?"
   ]
  },
  {
   "cell_type": "code",
   "execution_count": null,
   "metadata": {},
   "outputs": [],
   "source": [
    "factor = np.linspace(0.1, 10, 30)\n",
    "thick = factor*0\n",
    "for i, f in enumerate(factor):\n",
    "    vol_m3, area_m3 = tasks.mass_conservation_inversion(gdir_hef, glen_a=cfg.PARAMS['glen_a']*f, print_log=False)\n",
    "    thick[i] = vol_m3/area_m3\n",
    "plt.figure(figsize=(6, 4))\n",
    "plt.plot(factor, thick);\n",
    "plt.ylabel('Mean thickness (m)');\n",
    "plt.xlabel('A Multiplier');"
   ]
  },
  {
   "cell_type": "markdown",
   "metadata": {},
   "source": [
    "The shape of the curve is explained by the physics of ice. As you can see, tuning this parameter is not an easy task."
   ]
  },
  {
   "cell_type": "markdown",
   "metadata": {},
   "source": [
    "### Finalize the inversion "
   ]
  },
  {
   "cell_type": "code",
   "execution_count": null,
   "metadata": {},
   "outputs": [],
   "source": [
    "# For the rest of the examples, we don't use the optimal parameters but the default ones\n",
    "cfg.PARAMS['optimize_inversion_params'] = False\n",
    "workflow.execute_entity_task(tasks.mass_conservation_inversion, gdirs)\n",
    "workflow.execute_entity_task(tasks.filter_inversion_output, gdirs)"
   ]
  },
  {
   "cell_type": "markdown",
   "metadata": {},
   "source": [
    "The results of the inversion (and other useful parameters) can be combined with a utilitary function:"
   ]
  },
  {
   "cell_type": "code",
   "execution_count": null,
   "metadata": {},
   "outputs": [],
   "source": [
    "df = utils.compile_glacier_statistics(gdirs)\n",
    "ax = df.plot.scatter(x='rgi_area_km2', y='inv_volume_km3', color='C3')\n",
    "ax.semilogx(); ax.semilogy();"
   ]
  },
  {
   "cell_type": "markdown",
   "metadata": {},
   "source": [
    "## Dynamics "
   ]
  },
  {
   "cell_type": "markdown",
   "metadata": {},
   "source": [
    "For the dynamics refer to the other notebooks in the same folder!"
   ]
  },
  {
   "cell_type": "markdown",
   "metadata": {},
   "source": [
    "## Set up a run "
   ]
  },
  {
   "cell_type": "markdown",
   "metadata": {},
   "source": [
    "For setting up a real OGGM run with your own data, refer to [the documentation](http://docs.oggm.org/en/latest/run.html)!"
   ]
  }
 ],
 "metadata": {
  "hide_input": false,
  "kernelspec": {
   "display_name": "Python 3",
   "language": "python",
   "name": "python3"
  },
  "language_info": {
   "codemirror_mode": {
    "name": "ipython",
    "version": 3
   },
   "file_extension": ".py",
   "mimetype": "text/x-python",
   "name": "python",
   "nbconvert_exporter": "python",
   "pygments_lexer": "ipython3",
   "version": "3.5.2"
  },
  "toc": {
   "base_numbering": 1,
   "nav_menu": {},
   "number_sections": false,
   "sideBar": true,
   "skip_h1_title": true,
   "title_cell": "Table of Contents",
   "title_sidebar": "Contents",
   "toc_cell": false,
   "toc_position": {},
   "toc_section_display": true,
   "toc_window_display": false
  }
 },
 "nbformat": 4,
 "nbformat_minor": 1
}
