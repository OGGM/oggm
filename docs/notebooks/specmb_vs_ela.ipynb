{
 "cells": [
  {
   "cell_type": "markdown",
   "metadata": {},
   "source": [
    "<img src=\"https://raw.githubusercontent.com/OGGM/oggm/master/docs/_static/logo.png\" width=\"40%\"  align=\"left\">"
   ]
  },
  {
   "cell_type": "markdown",
   "metadata": {},
   "source": [
    "# Specific mass-balance and ELA"
   ]
  },
  {
   "cell_type": "markdown",
   "metadata": {},
   "source": [
    "Code for the OGGM blog post: http://oggm.org/2017/10/01/specmb-ela/"
   ]
  },
  {
   "cell_type": "code",
   "execution_count": null,
   "metadata": {},
   "outputs": [],
   "source": [
    "# The commands below are just importing the necessary modules and functions\n",
    "# Plot defaults\n",
    "%matplotlib inline\n",
    "import os\n",
    "import matplotlib.pyplot as plt\n",
    "# Scientific packages\n",
    "import numpy as np\n",
    "# Constants\n",
    "from oggm.cfg import SEC_IN_YEAR, A\n",
    "# OGGM models\n",
    "from oggm.core.massbalance import LinearMassBalance\n",
    "from oggm.core.flowline import FluxBasedModel, ParabolicBedFlowline\n",
    "# This is to set a default parameter to a function. Just ignore it for now\n",
    "from functools import partial\n",
    "FlowlineModel = partial(FluxBasedModel, inplace=False)\n",
    "\n",
    "pdir = os.path.expanduser('~')"
   ]
  },
  {
   "cell_type": "markdown",
   "metadata": {},
   "source": [
    "## Set-up"
   ]
  },
  {
   "cell_type": "markdown",
   "metadata": {},
   "source": [
    "### Glacier "
   ]
  },
  {
   "cell_type": "code",
   "execution_count": null,
   "metadata": {},
   "outputs": [],
   "source": [
    "# This is the bed rock, linearily decreasing from 3400m altitude to 1400m, in 200 steps\n",
    "nx = 200\n",
    "bed_h = np.linspace(3400, 1400, nx)\n",
    "# At the begining, there is no glacier so our glacier surface is at the bed altitude\n",
    "surface_h = bed_h\n",
    "# Let's set the model grid spacing to 100m (needed later)\n",
    "map_dx = 100\n",
    "# For plot\n",
    "grid = map_dx * np.arange(nx) * 1e-3\n",
    "# The parabolic coeff\n",
    "shape = surface_h * 0. + 5.e-3\n",
    "# Define our bed\n",
    "init_flowline = ParabolicBedFlowline(surface_h=surface_h, bed_h=bed_h, map_dx=map_dx, bed_shape=shape)"
   ]
  },
  {
   "cell_type": "markdown",
   "metadata": {},
   "source": [
    "### Mass balance"
   ]
  },
  {
   "cell_type": "markdown",
   "metadata": {},
   "source": [
    "We define a linear mass-balance model with a step function for the ELA:"
   ]
  },
  {
   "cell_type": "code",
   "execution_count": null,
   "metadata": {},
   "outputs": [],
   "source": [
    "yr_end = 500\n",
    "yrs = np.arange(yr_end+1)\n",
    "ela_0 = 2900\n",
    "ela_1 = ela_0 + 150\n",
    "# Step function\n",
    "sela = yrs * 0. + ela_0\n",
    "sela[50:] = ela_1\n",
    "class StepMassBalance(LinearMassBalance):\n",
    "    \"\"\"Constant mass-balance as a linear function of altitude.\"\"\"\n",
    "    def get_annual_mb(self, heights, year=None):\n",
    "        self.ela_h = sela[int(year)]\n",
    "        return super(StepMassBalance, self).get_annual_mb(heights, year=year)"
   ]
  },
  {
   "cell_type": "markdown",
   "metadata": {},
   "source": [
    "And a linear mass-balance model with a linear change function for the ELA:"
   ]
  },
  {
   "cell_type": "code",
   "execution_count": null,
   "metadata": {},
   "outputs": [],
   "source": [
    "# linear function\n",
    "lela = yrs * 0. + ela_0\n",
    "lela[50:-150] = np.linspace(ela_0, ela_1, len(lela[50:-150]))\n",
    "lela[-150:] = ela_1\n",
    "class LinChangeMassBalance(LinearMassBalance):\n",
    "    \"\"\"Constant mass-balance as a linear function of altitude.\"\"\"\n",
    "    def get_annual_mb(self, heights, year=None):\n",
    "        self.ela_h = lela[int(year)]\n",
    "        return super(LinChangeMassBalance, self).get_annual_mb(heights, year=year)"
   ]
  },
  {
   "cell_type": "code",
   "execution_count": null,
   "metadata": {},
   "outputs": [],
   "source": [
    "ct_mb_model = LinearMassBalance(ela_0, grad=4)\n",
    "step_mb_model = StepMassBalance(ela_0, grad=4)\n",
    "lin_mb_model = LinChangeMassBalance(ela_0, grad=4)"
   ]
  },
  {
   "cell_type": "markdown",
   "metadata": {},
   "source": [
    "### Equilibrium run"
   ]
  },
  {
   "cell_type": "code",
   "execution_count": null,
   "metadata": {},
   "outputs": [],
   "source": [
    "emodel = FlowlineModel(init_flowline, mb_model=ct_mb_model, y0=0.)\n",
    "emodel.run_until(1200)"
   ]
  },
  {
   "cell_type": "markdown",
   "metadata": {},
   "source": [
    "See how the output looks like:"
   ]
  },
  {
   "cell_type": "code",
   "execution_count": null,
   "metadata": {},
   "outputs": [],
   "source": [
    "# Plot the initial conditions first:\n",
    "plt.figure();\n",
    "plt.plot(grid, init_flowline.bed_h, color='k', label='Bedrock')\n",
    "# The get the modelled flowline (model.fls[-1]) and plot it's new surface\n",
    "plt.plot(grid, emodel.fls[-1].surface_h, label='Glacier in equilibrium')\n",
    "plt.xlabel('Distance [km]')\n",
    "plt.ylabel('Altitude [m]')\n",
    "plt.xlim([0, 20]);\n",
    "plt.legend(loc='best');\n",
    "plt.tight_layout()\n",
    "plt.savefig(os.path.join(pdir, 'setup.png'), dpi=150);"
   ]
  },
  {
   "cell_type": "markdown",
   "metadata": {},
   "source": [
    "Let's print out a few infos about our glacier:"
   ]
  },
  {
   "cell_type": "code",
   "execution_count": null,
   "metadata": {},
   "outputs": [],
   "source": [
    "print('Year:', emodel.yr)\n",
    "print('Glacier length (m):', emodel.length_m)\n",
    "print('Glacier area (km2):', emodel.area_km2)\n",
    "print('Glacier volume (km3):', emodel.volume_km3)"
   ]
  },
  {
   "cell_type": "markdown",
   "metadata": {},
   "source": [
    "## Step ELA "
   ]
  },
  {
   "cell_type": "code",
   "execution_count": null,
   "metadata": {},
   "outputs": [],
   "source": [
    "smodel = FlowlineModel(emodel.fls, mb_model=step_mb_model, y0=0.)\n",
    "_, ds = smodel.run_until_and_store(yr_end)\n",
    "# Keep only early vals\n",
    "ds = ds.isel(time=ds.hydro_month==1)"
   ]
  },
  {
   "cell_type": "code",
   "execution_count": null,
   "metadata": {},
   "outputs": [],
   "source": [
    "f, (ax1, ax2, ax3) = plt.subplots(3, 1, figsize=(6, 5), sharex=True)\n",
    "ds.ela_m.plot(ax=ax1, linewidth=3)\n",
    "ax1.set_ylabel('ELA [m]')\n",
    "ax1.set_xlabel('');\n",
    "(ds.area_m2 * 1e-6).plot(ax=ax2, linewidth=3);\n",
    "ax2.set_ylabel('Area [km$^2$]')\n",
    "ax2.set_xlabel('');\n",
    "smb = (ds.volume_m3.values[1:] - ds.volume_m3.values[:-1]) / ds.area_m2[:-1] * 900\n",
    "smb.plot(ax=ax3, linewidth=3)\n",
    "ax3.set_ylabel('SMB [kg m$^{-2}$]')\n",
    "ax3.set_xlabel('Time [years]');\n",
    "ax3.set_xlim([0, 500]);\n",
    "plt.tight_layout()\n",
    "plt.savefig(os.path.join(pdir, 'step-mb.png'), dpi=150);"
   ]
  },
  {
   "cell_type": "markdown",
   "metadata": {},
   "source": [
    "## Linear ELA change "
   ]
  },
  {
   "cell_type": "code",
   "execution_count": null,
   "metadata": {},
   "outputs": [],
   "source": [
    "smodel = FlowlineModel(emodel.fls, mb_model=lin_mb_model, y0=0.)\n",
    "_, ds = smodel.run_until_and_store(yr_end)\n",
    "# Keep only early vals\n",
    "ds = ds.isel(time=ds.hydro_month==1)"
   ]
  },
  {
   "cell_type": "code",
   "execution_count": null,
   "metadata": {},
   "outputs": [],
   "source": [
    "f, (ax1, ax2, ax3) = plt.subplots(3, 1, figsize=(6, 5), sharex=True)\n",
    "ds.ela_m.plot(ax=ax1, linewidth=3, color='C3')\n",
    "ax1.set_ylabel('ELA [m]')\n",
    "ax1.set_xlabel('');\n",
    "(ds.area_m2 * 1e-6).plot(ax=ax2, linewidth=3, color='C3');\n",
    "ax2.set_ylabel('Area [km$^2$]')\n",
    "ax2.set_xlabel('');\n",
    "smb = (ds.volume_m3.values[1:] - ds.volume_m3.values[:-1]) / ds.area_m2[:-1] * 900\n",
    "smb.plot(ax=ax3, linewidth=3, color='C3')\n",
    "ax3.set_ylabel('SMB [kg m$^{-2}$]')\n",
    "ax3.set_xlabel('Time [years]');\n",
    "ax3.set_xlim([0, 500]);\n",
    "plt.tight_layout()\n",
    "plt.savefig(os.path.join(pdir, 'linear-mb.png'), dpi=150);"
   ]
  },
  {
   "cell_type": "code",
   "execution_count": null,
   "metadata": {},
   "outputs": [],
   "source": []
  }
 ],
 "metadata": {
  "hide_input": false,
  "kernelspec": {
   "display_name": "Python 3",
   "language": "python",
   "name": "python3"
  },
  "language_info": {
   "codemirror_mode": {
    "name": "ipython",
    "version": 3
   },
   "file_extension": ".py",
   "mimetype": "text/x-python",
   "name": "python",
   "nbconvert_exporter": "python",
   "pygments_lexer": "ipython3",
   "version": "3.5.2"
  },
  "toc": {
   "base_numbering": 1,
   "nav_menu": {},
   "number_sections": false,
   "sideBar": true,
   "skip_h1_title": true,
   "title_cell": "Table of Contents",
   "title_sidebar": "Contents",
   "toc_cell": false,
   "toc_position": {},
   "toc_section_display": true,
   "toc_window_display": false
  }
 },
 "nbformat": 4,
 "nbformat_minor": 1
}
